{
 "cells": [
  {
   "cell_type": "code",
   "execution_count": 1,
   "metadata": {},
   "outputs": [
    {
     "name": "stderr",
     "output_type": "stream",
     "text": [
      "2023-04-10 19:39:56.439052: I tensorflow/core/platform/cpu_feature_guard.cc:193] This TensorFlow binary is optimized with oneAPI Deep Neural Network Library (oneDNN) to use the following CPU instructions in performance-critical operations:  SSE3 SSE4.1 SSE4.2 AVX AVX2 FMA\n",
      "To enable them in other operations, rebuild TensorFlow with the appropriate compiler flags.\n"
     ]
    },
    {
     "name": "stdout",
     "output_type": "stream",
     "text": [
      "Num GPUs Available:  1\n"
     ]
    }
   ],
   "source": [
    "import tensorflow as tf\n",
    "import tensorflow_datasets as tfds\n",
    "import numpy as np\n",
    "import matplotlib.pyplot as plt\n",
    "from tensorflow import keras\n",
    "from tensorflow.keras import layers\n",
    "from keras import callbacks\n",
    "print(\"Num GPUs Available: \", len(tf.config.list_physical_devices('GPU')))\n"
   ]
  },
  {
   "cell_type": "code",
   "execution_count": null,
   "metadata": {},
   "outputs": [],
   "source": []
  },
  {
   "cell_type": "code",
   "execution_count": 2,
   "metadata": {},
   "outputs": [],
   "source": [
    "(ds_train, ds_test), ds_info = tfds.load(\n",
    "    'cifar10',\n",
    "    split=['train[:20%]', 'test'],\n",
    "    shuffle_files=True,\n",
    "    as_supervised=True,\n",
    "    with_info=True,\n",
    ")\n"
   ]
  },
  {
   "cell_type": "code",
   "execution_count": 3,
   "metadata": {},
   "outputs": [],
   "source": [
    "#IMG_SIZE = 224\n",
    "\n",
    "#ds_train = ds_train.map(lambda x, y: (tf.image.resize(x, (IMG_SIZE, IMG_SIZE)), y))\n",
    "#ds_test = ds_test.map(lambda x, y: (tf.image.resize(x, (IMG_SIZE, IMG_SIZE)), y))"
   ]
  },
  {
   "cell_type": "code",
   "execution_count": 4,
   "metadata": {},
   "outputs": [],
   "source": [
    "def normalize_img(image, label):\n",
    "  \"\"\"Normalizes images: `uint8` -> `float32`.\"\"\"\n",
    "  return tf.cast(image, tf.float32) / 255., label\n",
    "\n",
    "ds_train = ds_train.map(\n",
    "    normalize_img, num_parallel_calls=tf.data.AUTOTUNE)\n",
    "#ds_train = ds_train.cache()\n",
    "ds_train = ds_train.shuffle(ds_info.splits['train'].num_examples)\n",
    "ds_train = ds_train.batch(32)\n",
    "ds_train = ds_train.prefetch(tf.data.AUTOTUNE)\n"
   ]
  },
  {
   "cell_type": "code",
   "execution_count": 5,
   "metadata": {},
   "outputs": [],
   "source": [
    "ds_test = ds_test.map(\n",
    "    normalize_img, num_parallel_calls=tf.data.AUTOTUNE)\n",
    "ds_test = ds_test.batch(32)\n",
    "#ds_test = ds_test.cache()\n",
    "ds_test = ds_test.prefetch(tf.data.AUTOTUNE)\n"
   ]
  },
  {
   "cell_type": "code",
   "execution_count": 6,
   "metadata": {},
   "outputs": [],
   "source": [
    "'''\n",
    "base_model = keras.applications.Xception(\n",
    "    weights='imagenet',  # Load weights pre-trained on ImageNet.\n",
    "    input_shape=(150, 150, 3),\n",
    "    include_top=False)  # Do not include the ImageNet classifier at the top.\n",
    "'''\n",
    "base_model = keras.applications.ResNet50(\n",
    "    weights=\"imagenet\",\n",
    "    input_shape=(128,128,3),\n",
    "    include_top=False\n",
    ")"
   ]
  },
  {
   "cell_type": "code",
   "execution_count": 7,
   "metadata": {},
   "outputs": [
    {
     "data": {
      "text/plain": [
       "'\\ntesting_model = keras.applications.ResNet50(\\n    weights=\"imagenet\",\\n    input_shape=(32,32,3),\\n    include_top=False\\n)\\ntesting_model.compile(\\n    optimizer=tf.keras.optimizers.Adam(0.001),\\n    loss=tf.keras.losses.SparseCategoricalCrossentropy(from_logits=True),\\n    metrics=[tf.keras.metrics.SparseCategoricalAccuracy(name=\\'accuracy\\')],\\n)\\n\\ntesting_model.evaluate(ds_test)\\n'"
      ]
     },
     "execution_count": 7,
     "metadata": {},
     "output_type": "execute_result"
    }
   ],
   "source": [
    "'''\n",
    "testing_model = keras.applications.ResNet50(\n",
    "    weights=\"imagenet\",\n",
    "    input_shape=(32,32,3),\n",
    "    include_top=False\n",
    ")\n",
    "testing_model.compile(\n",
    "    optimizer=tf.keras.optimizers.Adam(0.001),\n",
    "    loss=tf.keras.losses.SparseCategoricalCrossentropy(from_logits=True),\n",
    "    metrics=[tf.keras.metrics.SparseCategoricalAccuracy(name='accuracy')],\n",
    ")\n",
    "\n",
    "testing_model.evaluate(ds_test)\n",
    "'''\n"
   ]
  },
  {
   "cell_type": "code",
   "execution_count": 8,
   "metadata": {},
   "outputs": [
    {
     "data": {
      "text/plain": [
       "\"\\n#original \\nbase_model.trainable = False\\n\\n\\ninputs = keras.Input(shape=(32, 32, 3))\\n# We make sure that the base_model is running in inference mode here,\\n# by passing `training=False`. This is important for fine-tuning, as you will\\n# learn in a few paragraphs.\\nx = base_model(inputs, training=False)\\n# Convert features of shape `base_model.output_shape[1:]` to vectors\\nx = keras.layers.GlobalAveragePooling2D()(x)\\n#x = keras.layers.Dense(128,activation='relu''relu')\\n# A Dense classifier with a single unit (binary classification)\\noutputs = keras.layers.Dense(10)(x)\\nmodel = keras.Model(inputs, outputs)\\n\""
      ]
     },
     "execution_count": 8,
     "metadata": {},
     "output_type": "execute_result"
    }
   ],
   "source": [
    "'''\n",
    "#original \n",
    "base_model.trainable = False\n",
    "\n",
    "\n",
    "inputs = keras.Input(shape=(32, 32, 3))\n",
    "# We make sure that the base_model is running in inference mode here,\n",
    "# by passing `training=False`. This is important for fine-tuning, as you will\n",
    "# learn in a few paragraphs.\n",
    "x = base_model(inputs, training=False)\n",
    "# Convert features of shape `base_model.output_shape[1:]` to vectors\n",
    "x = keras.layers.GlobalAveragePooling2D()(x)\n",
    "#x = keras.layers.Dense(128,activation='relu''relu')\n",
    "# A Dense classifier with a single unit (binary classification)\n",
    "outputs = keras.layers.Dense(10)(x)\n",
    "model = keras.Model(inputs, outputs)\n",
    "'''"
   ]
  },
  {
   "cell_type": "code",
   "execution_count": 9,
   "metadata": {},
   "outputs": [],
   "source": [
    "#sequential \n",
    "model = tf.keras.models.Sequential()\n",
    "model.add(tf.keras.layers.UpSampling2D((2,2)))\n",
    "model.add(tf.keras.layers.UpSampling2D((2,2)))\n",
    "#model.add(tf.keras.layers.UpSampling2D((2,2)))\n",
    "model.add(base_model)\n",
    "model.add(tf.keras.layers.GlobalAveragePooling2D())\n",
    "\n",
    "model.add(tf.keras.layers.Dense(128, activation='relu'))\n",
    "#model.add(tf.keras.layers.Dense(256, activation='relu'))\n",
    "model.add(tf.keras.layers.Flatten())\n",
    "model.add(tf.keras.layers.BatchNormalization())\n",
    "model.add(tf.keras.layers.Dropout(0.2))\n",
    "model.add(tf.keras.layers.Dense(10,activation='softmax'))\n",
    "  \n",
    "  \n"
   ]
  },
  {
   "cell_type": "code",
   "execution_count": 15,
   "metadata": {},
   "outputs": [],
   "source": [
    "earlystopping = callbacks.EarlyStopping(monitor='val_loss', \n",
    "                                        mode='min', \n",
    "                                        patience=10, \n",
    "                                        restore_best_weights=True)\n"
   ]
  },
  {
   "cell_type": "code",
   "execution_count": 10,
   "metadata": {},
   "outputs": [
    {
     "name": "stdout",
     "output_type": "stream",
     "text": [
      "Epoch 1/5\n",
      "313/313 [==============================] - 79s 180ms/step - loss: 1.3189 - accuracy: 0.5631 - val_loss: 2.8050 - val_accuracy: 0.1000\n",
      "Epoch 2/5\n",
      "313/313 [==============================] - 46s 139ms/step - loss: 0.8158 - accuracy: 0.7266 - val_loss: 3.0494 - val_accuracy: 0.1144\n",
      "Epoch 3/5\n",
      "313/313 [==============================] - 56s 170ms/step - loss: 0.6207 - accuracy: 0.7893 - val_loss: 1.4199 - val_accuracy: 0.5133\n",
      "Epoch 4/5\n",
      "313/313 [==============================] - 71s 209ms/step - loss: 0.4749 - accuracy: 0.8387 - val_loss: 0.9142 - val_accuracy: 0.7308\n",
      "Epoch 5/5\n",
      "313/313 [==============================] - 52s 157ms/step - loss: 0.3439 - accuracy: 0.8843 - val_loss: 1.1176 - val_accuracy: 0.6863\n"
     ]
    },
    {
     "data": {
      "text/plain": [
       "<keras.callbacks.History at 0x7eff0c190d00>"
      ]
     },
     "execution_count": 10,
     "metadata": {},
     "output_type": "execute_result"
    }
   ],
   "source": [
    "#Traditional Training\n",
    "#model = tf.keras.models.Sequential([\n",
    "#  tf.keras.layers.Flatten(input_shape=(32, 32, 3)),\n",
    "#  tf.keras.layers.Dense(128, activation='relu'),\n",
    "#  tf.keras.layers.Dense(10)\n",
    "#])\n",
    "\n",
    "model.compile(\n",
    "    optimizer=tf.keras.optimizers.Adam(0.001),\n",
    "    loss=tf.keras.losses.SparseCategoricalCrossentropy(),\n",
    "    metrics=[tf.keras.metrics.SparseCategoricalAccuracy(name='accuracy')],\n",
    ")\n",
    "\n",
    "model.fit(\n",
    "    ds_train,\n",
    "    epochs=5,\n",
    "    #batch_size=512,\n",
    "    validation_data=ds_test,\n",
    "    callbacks =[earlystopping],\n",
    ")\n"
   ]
  },
  {
   "cell_type": "code",
   "execution_count": 16,
   "metadata": {},
   "outputs": [
    {
     "name": "stdout",
     "output_type": "stream",
     "text": [
      "Epoch 1/11\n",
      "313/313 [==============================] - 68s 186ms/step - loss: 0.0621 - accuracy: 0.9863 - val_loss: 0.5250 - val_accuracy: 0.8407\n",
      "Epoch 2/11\n",
      "313/313 [==============================] - 55s 175ms/step - loss: 0.0451 - accuracy: 0.9909 - val_loss: 0.5310 - val_accuracy: 0.8419\n",
      "Epoch 3/11\n",
      "313/313 [==============================] - 60s 182ms/step - loss: 0.0373 - accuracy: 0.9923 - val_loss: 0.5446 - val_accuracy: 0.8425\n",
      "Epoch 4/11\n",
      "313/313 [==============================] - 96s 296ms/step - loss: 0.0302 - accuracy: 0.9939 - val_loss: 0.5533 - val_accuracy: 0.8437\n",
      "Epoch 5/11\n",
      "313/313 [==============================] - 54s 164ms/step - loss: 0.0207 - accuracy: 0.9968 - val_loss: 0.5613 - val_accuracy: 0.8441\n",
      "Epoch 6/11\n",
      "313/313 [==============================] - 68s 209ms/step - loss: 0.0175 - accuracy: 0.9979 - val_loss: 0.5728 - val_accuracy: 0.8442\n",
      "Epoch 7/11\n",
      "313/313 [==============================] - 56s 170ms/step - loss: 0.0164 - accuracy: 0.9970 - val_loss: 0.5814 - val_accuracy: 0.8447\n",
      "Epoch 8/11\n",
      "313/313 [==============================] - 53s 170ms/step - loss: 0.0121 - accuracy: 0.9986 - val_loss: 0.5913 - val_accuracy: 0.8448\n",
      "Epoch 9/11\n",
      "313/313 [==============================] - 67s 205ms/step - loss: 0.0128 - accuracy: 0.9980 - val_loss: 0.5978 - val_accuracy: 0.8447\n",
      "Epoch 10/11\n",
      "313/313 [==============================] - 51s 154ms/step - loss: 0.0087 - accuracy: 0.9993 - val_loss: 0.6019 - val_accuracy: 0.8449\n",
      "Epoch 11/11\n",
      "313/313 [==============================] - 58s 185ms/step - loss: 0.0078 - accuracy: 0.9993 - val_loss: 0.6131 - val_accuracy: 0.8448\n"
     ]
    }
   ],
   "source": [
    "# Unfreeze the base model\n",
    "base_model.trainable = True\n",
    "\n",
    "# It's important to recompile your model after you make any changes\n",
    "# to the `trainable` attribute of any inner layer, so that your changes\n",
    "# are take into account\n",
    "model.compile(\n",
    "    optimizer=tf.keras.optimizers.Adam(1e-5),\n",
    "    loss=tf.keras.losses.SparseCategoricalCrossentropy(from_logits=True),\n",
    "    metrics=[tf.keras.metrics.SparseCategoricalAccuracy(name='accuracy')],\n",
    ")\n",
    "testing = model.fit(\n",
    "    ds_train,\n",
    "    epochs=11,\n",
    "    #batch_size=512,\n",
    "    validation_data=ds_test,\n",
    "    verbose=1,\n",
    "    callbacks =[earlystopping],\n",
    ")\n",
    "\n"
   ]
  },
  {
   "cell_type": "code",
   "execution_count": 12,
   "metadata": {},
   "outputs": [
    {
     "data": {
      "image/png": "[encoded data removed]",
      "text/plain": [
       "<Figure size 640x480 with 1 Axes>"
      ]
     },
     "metadata": {},
     "output_type": "display_data"
    }
   ],
   "source": [
    "plt.plot(testing.history['accuracy'])\n",
    "plt.plot(testing.history['val_accuracy'])\n",
    "plt.title('Accuracy vs Iterations')\n",
    "plt.ylabel('accuracy')\n",
    "plt.xlabel('epoch')\n",
    "plt.legend(['train', 'validation'], loc='upper left')\n",
    "plt.show()\n"
   ]
  },
  {
   "cell_type": "code",
   "execution_count": 13,
   "metadata": {},
   "outputs": [
    {
     "data": {
      "image/png": "[encoded data removed]",
      "text/plain": [
       "<Figure size 640x480 with 1 Axes>"
      ]
     },
     "metadata": {},
     "output_type": "display_data"
    }
   ],
   "source": [
    "plt.plot(testing.history['loss'])\n",
    "plt.plot(testing.history['val_loss'])\n",
    "plt.title('Loss vs Iterations')\n",
    "plt.ylabel('loss')\n",
    "plt.xlabel('epoch')\n",
    "plt.legend(['train', 'validation'], loc='upper left')\n",
    "plt.show()"
   ]
  },
  {
   "cell_type": "code",
   "execution_count": 14,
   "metadata": {},
   "outputs": [
    {
     "name": "stdout",
     "output_type": "stream",
     "text": [
      "313/313 [==============================] - 8s 25ms/step - loss: 0.5243 - accuracy: 0.8348\n"
     ]
    },
    {
     "data": {
      "text/plain": [
       "[0.5242804288864136, 0.8348000049591064]"
      ]
     },
     "execution_count": 14,
     "metadata": {},
     "output_type": "execute_result"
    }
   ],
   "source": [
    "model.evaluate(ds_test)\n"
   ]
  }
 ],
 "metadata": {
  "kernelspec": {
   "display_name": "ai",
   "language": "python",
   "name": "python3"
  },
  "language_info": {
   "codemirror_mode": {
    "name": "ipython",
    "version": 3
   },
   "file_extension": ".py",
   "mimetype": "text/x-python",
   "name": "python",
   "nbconvert_exporter": "python",
   "pygments_lexer": "ipython3",
   "version": "3.10.9"
  },
  "orig_nbformat": 4,
  "vscode": {
   "interpreter": {
    "hash": "901513f973fd39939338493543c75a11bbe7066eaea51c7c442242fe74390079"
   }
  }
 },
 "nbformat": 4,
 "nbformat_minor": 2
}
