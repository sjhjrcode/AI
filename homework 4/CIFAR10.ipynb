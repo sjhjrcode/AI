{
 "cells": [
  {
   "cell_type": "code",
   "execution_count": 1,
   "metadata": {},
   "outputs": [
    {
     "name": "stderr",
     "output_type": "stream",
     "text": [
      "2023-04-08 11:06:04.690787: I tensorflow/core/platform/cpu_feature_guard.cc:193] This TensorFlow binary is optimized with oneAPI Deep Neural Network Library (oneDNN) to use the following CPU instructions in performance-critical operations:  SSE3 SSE4.1 SSE4.2 AVX AVX2 FMA\n",
      "To enable them in other operations, rebuild TensorFlow with the appropriate compiler flags.\n"
     ]
    },
    {
     "name": "stdout",
     "output_type": "stream",
     "text": [
      "Num GPUs Available:  1\n"
     ]
    }
   ],
   "source": [
    "import tensorflow as tf\n",
    "import tensorflow_datasets as tfds\n",
    "import numpy as np\n",
    "import matplotlib.pyplot as plt\n",
    "from tensorflow import keras\n",
    "from tensorflow.keras import layers\n",
    "from keras import callbacks\n",
    "print(\"Num GPUs Available: \", len(tf.config.list_physical_devices('GPU')))\n"
   ]
  },
  {
   "cell_type": "code",
   "execution_count": null,
   "metadata": {},
   "outputs": [],
   "source": []
  },
  {
   "cell_type": "code",
   "execution_count": 2,
   "metadata": {},
   "outputs": [],
   "source": [
    "(ds_train, ds_test), ds_info = tfds.load(\n",
    "    'cifar10',\n",
    "    split=['train[:20%]', 'test'],\n",
    "    shuffle_files=True,\n",
    "    as_supervised=True,\n",
    "    with_info=True,\n",
    ")\n"
   ]
  },
  {
   "cell_type": "code",
   "execution_count": 3,
   "metadata": {},
   "outputs": [],
   "source": [
    "#IMG_SIZE = 224\n",
    "\n",
    "#ds_train = ds_train.map(lambda x, y: (tf.image.resize(x, (IMG_SIZE, IMG_SIZE)), y))\n",
    "#ds_test = ds_test.map(lambda x, y: (tf.image.resize(x, (IMG_SIZE, IMG_SIZE)), y))"
   ]
  },
  {
   "cell_type": "code",
   "execution_count": 4,
   "metadata": {},
   "outputs": [],
   "source": [
    "def normalize_img(image, label):\n",
    "  \"\"\"Normalizes images: `uint8` -> `float32`.\"\"\"\n",
    "  return tf.cast(image, tf.float32) / 255., label\n",
    "\n",
    "ds_train = ds_train.map(\n",
    "    normalize_img, num_parallel_calls=tf.data.AUTOTUNE)\n",
    "#ds_train = ds_train.cache()\n",
    "ds_train = ds_train.shuffle(ds_info.splits['train'].num_examples)\n",
    "ds_train = ds_train.batch(128)\n",
    "ds_train = ds_train.prefetch(tf.data.AUTOTUNE)\n"
   ]
  },
  {
   "cell_type": "code",
   "execution_count": 5,
   "metadata": {},
   "outputs": [],
   "source": [
    "ds_test = ds_test.map(\n",
    "    normalize_img, num_parallel_calls=tf.data.AUTOTUNE)\n",
    "ds_test = ds_test.batch(128)\n",
    "#ds_test = ds_test.cache()\n",
    "ds_test = ds_test.prefetch(tf.data.AUTOTUNE)\n"
   ]
  },
  {
   "cell_type": "code",
   "execution_count": 6,
   "metadata": {},
   "outputs": [],
   "source": [
    "'''\n",
    "base_model = keras.applications.Xception(\n",
    "    weights='imagenet',  # Load weights pre-trained on ImageNet.\n",
    "    input_shape=(150, 150, 3),\n",
    "    include_top=False)  # Do not include the ImageNet classifier at the top.\n",
    "'''\n",
    "base_model = keras.applications.ResNet50(\n",
    "    weights=\"imagenet\",\n",
    "    input_shape=(128,128,3),\n",
    "    include_top=False\n",
    ")"
   ]
  },
  {
   "cell_type": "code",
   "execution_count": 7,
   "metadata": {},
   "outputs": [
    {
     "data": {
      "text/plain": [
       "'\\ntesting_model = keras.applications.ResNet50(\\n    weights=\"imagenet\",\\n    input_shape=(32,32,3),\\n    include_top=False\\n)\\ntesting_model.compile(\\n    optimizer=tf.keras.optimizers.Adam(0.001),\\n    loss=tf.keras.losses.SparseCategoricalCrossentropy(from_logits=True),\\n    metrics=[tf.keras.metrics.SparseCategoricalAccuracy(name=\\'accuracy\\')],\\n)\\n\\ntesting_model.evaluate(ds_test)\\n'"
      ]
     },
     "execution_count": 7,
     "metadata": {},
     "output_type": "execute_result"
    }
   ],
   "source": [
    "'''\n",
    "testing_model = keras.applications.ResNet50(\n",
    "    weights=\"imagenet\",\n",
    "    input_shape=(32,32,3),\n",
    "    include_top=False\n",
    ")\n",
    "testing_model.compile(\n",
    "    optimizer=tf.keras.optimizers.Adam(0.001),\n",
    "    loss=tf.keras.losses.SparseCategoricalCrossentropy(from_logits=True),\n",
    "    metrics=[tf.keras.metrics.SparseCategoricalAccuracy(name='accuracy')],\n",
    ")\n",
    "\n",
    "testing_model.evaluate(ds_test)\n",
    "'''\n"
   ]
  },
  {
   "cell_type": "code",
   "execution_count": 8,
   "metadata": {},
   "outputs": [
    {
     "data": {
      "text/plain": [
       "\"\\n#original \\nbase_model.trainable = False\\n\\n\\ninputs = keras.Input(shape=(32, 32, 3))\\n# We make sure that the base_model is running in inference mode here,\\n# by passing `training=False`. This is important for fine-tuning, as you will\\n# learn in a few paragraphs.\\nx = base_model(inputs, training=False)\\n# Convert features of shape `base_model.output_shape[1:]` to vectors\\nx = keras.layers.GlobalAveragePooling2D()(x)\\n#x = keras.layers.Dense(128,activation='relu''relu')\\n# A Dense classifier with a single unit (binary classification)\\noutputs = keras.layers.Dense(10)(x)\\nmodel = keras.Model(inputs, outputs)\\n\""
      ]
     },
     "execution_count": 8,
     "metadata": {},
     "output_type": "execute_result"
    }
   ],
   "source": [
    "'''\n",
    "#original \n",
    "base_model.trainable = False\n",
    "\n",
    "\n",
    "inputs = keras.Input(shape=(32, 32, 3))\n",
    "# We make sure that the base_model is running in inference mode here,\n",
    "# by passing `training=False`. This is important for fine-tuning, as you will\n",
    "# learn in a few paragraphs.\n",
    "x = base_model(inputs, training=False)\n",
    "# Convert features of shape `base_model.output_shape[1:]` to vectors\n",
    "x = keras.layers.GlobalAveragePooling2D()(x)\n",
    "#x = keras.layers.Dense(128,activation='relu''relu')\n",
    "# A Dense classifier with a single unit (binary classification)\n",
    "outputs = keras.layers.Dense(10)(x)\n",
    "model = keras.Model(inputs, outputs)\n",
    "'''"
   ]
  },
  {
   "cell_type": "code",
   "execution_count": 9,
   "metadata": {},
   "outputs": [],
   "source": [
    "#sequential \n",
    "model = tf.keras.models.Sequential()\n",
    "model.add(tf.keras.layers.UpSampling2D((2,2)))\n",
    "model.add(tf.keras.layers.UpSampling2D((2,2)))\n",
    "#model.add(tf.keras.layers.UpSampling2D((2,2)))\n",
    "model.add(base_model)\n",
    "model.add(tf.keras.layers.GlobalAveragePooling2D())\n",
    "\n",
    "model.add(tf.keras.layers.Dense(128, activation='relu'))\n",
    "#model.add(tf.keras.layers.Dense(256, activation='relu'))\n",
    "model.add(tf.keras.layers.Flatten())\n",
    "model.add(tf.keras.layers.BatchNormalization())\n",
    "model.add(tf.keras.layers.Dropout(0.2))\n",
    "model.add(tf.keras.layers.Dense(10,activation='softmax'))\n",
    "  \n",
    "  \n"
   ]
  },
  {
   "cell_type": "code",
   "execution_count": 10,
   "metadata": {},
   "outputs": [
    {
     "name": "stdout",
     "output_type": "stream",
     "text": [
      "Epoch 1/5\n",
      "79/79 [==============================] - 101s 1s/step - loss: 1.0270 - accuracy: 0.6724 - val_loss: 8.5428 - val_accuracy: 0.1000\n",
      "Epoch 2/5\n",
      "79/79 [==============================] - 87s 1s/step - loss: 0.4859 - accuracy: 0.8335 - val_loss: 4.2179 - val_accuracy: 0.1000\n",
      "Epoch 3/5\n",
      "79/79 [==============================] - 86s 1s/step - loss: 0.3038 - accuracy: 0.9017 - val_loss: 4.8787 - val_accuracy: 0.1000\n",
      "Epoch 4/5\n",
      "79/79 [==============================] - 66s 832ms/step - loss: 0.2407 - accuracy: 0.9188 - val_loss: 4.1112 - val_accuracy: 0.1000\n",
      "Epoch 5/5\n",
      "79/79 [==============================] - 73s 888ms/step - loss: 0.1924 - accuracy: 0.9353 - val_loss: 3.5733 - val_accuracy: 0.1203\n"
     ]
    },
    {
     "data": {
      "text/plain": [
       "<keras.callbacks.History at 0x7f31183c0c70>"
      ]
     },
     "execution_count": 10,
     "metadata": {},
     "output_type": "execute_result"
    }
   ],
   "source": [
    "#Traditional Training\n",
    "#model = tf.keras.models.Sequential([\n",
    "#  tf.keras.layers.Flatten(input_shape=(32, 32, 3)),\n",
    "#  tf.keras.layers.Dense(128, activation='relu'),\n",
    "#  tf.keras.layers.Dense(10)\n",
    "#])\n",
    "earlystopping = callbacks.EarlyStopping(monitor='val_loss', \n",
    "                                        mode='min', \n",
    "                                        patience=5, \n",
    "                                        restore_best_weights=True)\n",
    "\n",
    "model.compile(\n",
    "    optimizer=tf.keras.optimizers.Adam(0.001),\n",
    "    loss=tf.keras.losses.SparseCategoricalCrossentropy(),\n",
    "    metrics=[tf.keras.metrics.SparseCategoricalAccuracy(name='accuracy')],\n",
    ")\n",
    "\n",
    "model.fit(\n",
    "    ds_train,\n",
    "    epochs=5,\n",
    "    #batch_size=512,\n",
    "    validation_data=ds_test,\n",
    "    callbacks =[earlystopping],\n",
    ")\n"
   ]
  },
  {
   "cell_type": "code",
   "execution_count": 11,
   "metadata": {},
   "outputs": [
    {
     "name": "stdout",
     "output_type": "stream",
     "text": [
      "Epoch 1/11\n"
     ]
    },
    {
     "name": "stderr",
     "output_type": "stream",
     "text": [
      "/home/sjhjrok/anaconda3/envs/ai/lib/python3.10/site-packages/keras/backend.py:5585: UserWarning: \"`sparse_categorical_crossentropy` received `from_logits=True`, but the `output` argument was produced by a Softmax activation and thus does not represent logits. Was this intended?\n",
      "  output, from_logits = _get_logits(\n"
     ]
    },
    {
     "name": "stdout",
     "output_type": "stream",
     "text": [
      "79/79 [==============================] - 75s 824ms/step - loss: 0.0719 - accuracy: 0.9790 - val_loss: 3.0110 - val_accuracy: 0.1015\n",
      "Epoch 2/11\n",
      "79/79 [==============================] - 87s 1s/step - loss: 0.0372 - accuracy: 0.9906 - val_loss: 2.8736 - val_accuracy: 0.1127\n",
      "Epoch 3/11\n",
      "79/79 [==============================] - 84s 1s/step - loss: 0.0250 - accuracy: 0.9960 - val_loss: 2.5645 - val_accuracy: 0.1851\n",
      "Epoch 4/11\n",
      "79/79 [==============================] - 86s 1s/step - loss: 0.0188 - accuracy: 0.9970 - val_loss: 2.0722 - val_accuracy: 0.3411\n",
      "Epoch 5/11\n",
      "79/79 [==============================] - 83s 940ms/step - loss: 0.0132 - accuracy: 0.9987 - val_loss: 1.5359 - val_accuracy: 0.5260\n",
      "Epoch 6/11\n",
      "79/79 [==============================] - 86s 1s/step - loss: 0.0107 - accuracy: 0.9994 - val_loss: 1.1212 - val_accuracy: 0.6657\n",
      "Epoch 7/11\n",
      "79/79 [==============================] - 69s 835ms/step - loss: 0.0092 - accuracy: 0.9996 - val_loss: 0.8343 - val_accuracy: 0.7623\n",
      "Epoch 8/11\n",
      "79/79 [==============================] - 82s 1s/step - loss: 0.0074 - accuracy: 0.9995 - val_loss: 0.6537 - val_accuracy: 0.8177\n",
      "Epoch 9/11\n",
      "79/79 [==============================] - 75s 917ms/step - loss: 0.0066 - accuracy: 0.9997 - val_loss: 0.5596 - val_accuracy: 0.8480\n",
      "Epoch 10/11\n",
      "79/79 [==============================] - 63s 761ms/step - loss: 0.0059 - accuracy: 0.9998 - val_loss: 0.5256 - val_accuracy: 0.8603\n",
      "Epoch 11/11\n",
      "79/79 [==============================] - 65s 788ms/step - loss: 0.0044 - accuracy: 1.0000 - val_loss: 0.5156 - val_accuracy: 0.8638\n"
     ]
    }
   ],
   "source": [
    "# Unfreeze the base model\n",
    "base_model.trainable = True\n",
    "\n",
    "# It's important to recompile your model after you make any changes\n",
    "# to the `trainable` attribute of any inner layer, so that your changes\n",
    "# are take into account\n",
    "model.compile(\n",
    "    optimizer=tf.keras.optimizers.Adam(1e-5),\n",
    "    loss=tf.keras.losses.SparseCategoricalCrossentropy(from_logits=True),\n",
    "    metrics=[tf.keras.metrics.SparseCategoricalAccuracy(name='accuracy')],\n",
    ")\n",
    "testing = model.fit(\n",
    "    ds_train,\n",
    "    epochs=11,\n",
    "    #batch_size=512,\n",
    "    validation_data=ds_test,\n",
    "    verbose=1,\n",
    "    callbacks =[earlystopping],\n",
    ")\n",
    "\n"
   ]
  },
  {
   "cell_type": "code",
   "execution_count": 12,
   "metadata": {},
   "outputs": [
    {
     "data": {
      "text/plain": [
       "<function matplotlib.pyplot.show(close=None, block=None)>"
      ]
     },
     "execution_count": 12,
     "metadata": {},
     "output_type": "execute_result"
    },
    {
     "data": {
      "image/png": "[encoded data removed]",
      "text/plain": [
       "<Figure size 640x480 with 1 Axes>"
      ]
     },
     "metadata": {},
     "output_type": "display_data"
    }
   ],
   "source": [
    "\n",
    "plt.plot(\n",
    "    np.arange(1, 12), \n",
    "    testing.history['accuracy'], label='Accuracy'\n",
    ")\n",
    "plt.show"
   ]
  },
  {
   "cell_type": "code",
   "execution_count": 13,
   "metadata": {},
   "outputs": [
    {
     "data": {
      "text/plain": [
       "<function matplotlib.pyplot.show(close=None, block=None)>"
      ]
     },
     "execution_count": 13,
     "metadata": {},
     "output_type": "execute_result"
    },
    {
     "data": {
      "image/png": "[encoded data removed]",
      "text/plain": [
       "<Figure size 640x480 with 1 Axes>"
      ]
     },
     "metadata": {},
     "output_type": "display_data"
    }
   ],
   "source": [
    "plt.plot(\n",
    "    np.arange(1, 12), \n",
    "    testing.history['loss'], label='Loss'\n",
    ")\n",
    "plt.show"
   ]
  },
  {
   "cell_type": "code",
   "execution_count": 14,
   "metadata": {},
   "outputs": [
    {
     "name": "stdout",
     "output_type": "stream",
     "text": [
      "79/79 [==============================] - 10s 132ms/step - loss: 0.5156 - accuracy: 0.8638\n"
     ]
    },
    {
     "data": {
      "text/plain": [
       "[0.5156154036521912, 0.8637999892234802]"
      ]
     },
     "execution_count": 14,
     "metadata": {},
     "output_type": "execute_result"
    }
   ],
   "source": [
    "model.evaluate(ds_test)\n"
   ]
  }
 ],
 "metadata": {
  "kernelspec": {
   "display_name": "ai",
   "language": "python",
   "name": "python3"
  },
  "language_info": {
   "codemirror_mode": {
    "name": "ipython",
    "version": 3
   },
   "file_extension": ".py",
   "mimetype": "text/x-python",
   "name": "python",
   "nbconvert_exporter": "python",
   "pygments_lexer": "ipython3",
   "version": "3.10.9"
  },
  "orig_nbformat": 4,
  "vscode": {
   "interpreter": {
    "hash": "901513f973fd39939338493543c75a11bbe7066eaea51c7c442242fe74390079"
   }
  }
 },
 "nbformat": 4,
 "nbformat_minor": 2
}
