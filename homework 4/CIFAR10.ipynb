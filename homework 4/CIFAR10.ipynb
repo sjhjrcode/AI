{
 "cells": [
  {
   "cell_type": "code",
   "execution_count": 1,
   "metadata": {},
   "outputs": [
    {
     "name": "stderr",
     "output_type": "stream",
     "text": [
      "2023-04-02 15:25:49.054591: I tensorflow/core/platform/cpu_feature_guard.cc:193] This TensorFlow binary is optimized with oneAPI Deep Neural Network Library (oneDNN) to use the following CPU instructions in performance-critical operations:  SSE3 SSE4.1 SSE4.2 AVX AVX2 FMA\n",
      "To enable them in other operations, rebuild TensorFlow with the appropriate compiler flags.\n"
     ]
    },
    {
     "name": "stdout",
     "output_type": "stream",
     "text": [
      "Num GPUs Available:  1\n"
     ]
    }
   ],
   "source": [
    "import tensorflow as tf\n",
    "import tensorflow_datasets as tfds\n",
    "import numpy as np\n",
    "import matplotlib.pyplot as plt\n",
    "from tensorflow import keras\n",
    "print(\"Num GPUs Available: \", len(tf.config.list_physical_devices('GPU')))\n"
   ]
  },
  {
   "cell_type": "code",
   "execution_count": 2,
   "metadata": {},
   "outputs": [],
   "source": [
    "(ds_train, ds_test), ds_info = tfds.load(\n",
    "    'cifar10',\n",
    "    split=['train', 'test'],\n",
    "    shuffle_files=True,\n",
    "    as_supervised=True,\n",
    "    with_info=True,\n",
    ")\n"
   ]
  },
  {
   "cell_type": "code",
   "execution_count": null,
   "metadata": {},
   "outputs": [],
   "source": []
  },
  {
   "cell_type": "code",
   "execution_count": 3,
   "metadata": {},
   "outputs": [],
   "source": [
    "def normalize_img(image, label):\n",
    "  \"\"\"Normalizes images: `uint8` -> `float32`.\"\"\"\n",
    "  return tf.cast(image, tf.float32) / 255., label\n",
    "\n",
    "ds_train = ds_train.map(\n",
    "    normalize_img, num_parallel_calls=tf.data.AUTOTUNE)\n",
    "ds_train = ds_train.cache()\n",
    "ds_train = ds_train.shuffle(ds_info.splits['train'].num_examples)\n",
    "ds_train = ds_train.batch(128)\n",
    "ds_train = ds_train.prefetch(tf.data.AUTOTUNE)\n"
   ]
  },
  {
   "cell_type": "code",
   "execution_count": 4,
   "metadata": {},
   "outputs": [],
   "source": [
    "ds_test = ds_test.map(\n",
    "    normalize_img, num_parallel_calls=tf.data.AUTOTUNE)\n",
    "ds_test = ds_test.batch(128)\n",
    "ds_test = ds_test.cache()\n",
    "ds_test = ds_test.prefetch(tf.data.AUTOTUNE)\n"
   ]
  },
  {
   "cell_type": "code",
   "execution_count": 5,
   "metadata": {},
   "outputs": [],
   "source": [
    "'''\n",
    "base_model = keras.applications.Xception(\n",
    "    weights='imagenet',  # Load weights pre-trained on ImageNet.\n",
    "    input_shape=(150, 150, 3),\n",
    "    include_top=False)  # Do not include the ImageNet classifier at the top.\n",
    "'''\n",
    "base_model = keras.applications.ResNet50(\n",
    "    weights=\"imagenet\",\n",
    "    input_shape=(64,64,3),\n",
    "    include_top=False\n",
    ")"
   ]
  },
  {
   "cell_type": "code",
   "execution_count": 6,
   "metadata": {},
   "outputs": [
    {
     "name": "stdout",
     "output_type": "stream",
     "text": [
      "79/79 [==============================] - 2s 15ms/step - loss: 23.9925 - accuracy: 0.0000e+00\n"
     ]
    },
    {
     "data": {
      "text/plain": [
       "[23.99248695373535, 0.0]"
      ]
     },
     "execution_count": 6,
     "metadata": {},
     "output_type": "execute_result"
    }
   ],
   "source": [
    "testing_model = keras.applications.ResNet50(\n",
    "    weights=\"imagenet\",\n",
    "    input_shape=(32,32,3),\n",
    "    include_top=False\n",
    ")\n",
    "testing_model.compile(\n",
    "    optimizer=tf.keras.optimizers.Adam(0.001),\n",
    "    loss=tf.keras.losses.SparseCategoricalCrossentropy(from_logits=True),\n",
    "    metrics=[tf.keras.metrics.SparseCategoricalAccuracy(name='accuracy')],\n",
    ")\n",
    "\n",
    "testing_model.evaluate(ds_test)"
   ]
  },
  {
   "cell_type": "code",
   "execution_count": 6,
   "metadata": {},
   "outputs": [
    {
     "data": {
      "text/plain": [
       "\"\\n#original \\nbase_model.trainable = False\\n\\n\\ninputs = keras.Input(shape=(32, 32, 3))\\n# We make sure that the base_model is running in inference mode here,\\n# by passing `training=False`. This is important for fine-tuning, as you will\\n# learn in a few paragraphs.\\nx = base_model(inputs, training=False)\\n# Convert features of shape `base_model.output_shape[1:]` to vectors\\nx = keras.layers.GlobalAveragePooling2D()(x)\\n#x = keras.layers.Dense(128,activation='relu''relu')\\n# A Dense classifier with a single unit (binary classification)\\noutputs = keras.layers.Dense(10)(x)\\nmodel = keras.Model(inputs, outputs)\\n\""
      ]
     },
     "execution_count": 6,
     "metadata": {},
     "output_type": "execute_result"
    }
   ],
   "source": [
    "'''\n",
    "#original \n",
    "base_model.trainable = False\n",
    "\n",
    "\n",
    "inputs = keras.Input(shape=(32, 32, 3))\n",
    "# We make sure that the base_model is running in inference mode here,\n",
    "# by passing `training=False`. This is important for fine-tuning, as you will\n",
    "# learn in a few paragraphs.\n",
    "x = base_model(inputs, training=False)\n",
    "# Convert features of shape `base_model.output_shape[1:]` to vectors\n",
    "x = keras.layers.GlobalAveragePooling2D()(x)\n",
    "#x = keras.layers.Dense(128,activation='relu''relu')\n",
    "# A Dense classifier with a single unit (binary classification)\n",
    "outputs = keras.layers.Dense(10)(x)\n",
    "model = keras.Model(inputs, outputs)\n",
    "'''"
   ]
  },
  {
   "cell_type": "code",
   "execution_count": 7,
   "metadata": {},
   "outputs": [],
   "source": [
    "#sequential \n",
    "model = tf.keras.models.Sequential()\n",
    "model.add(tf.keras.layers.UpSampling2D((2,2)))\n",
    "#model.add(tf.keras.layers.UpSampling2D((2,2)))\n",
    "#model.add(tf.keras.layers.UpSampling2D((2,2)))\n",
    "model.add(base_model)\n",
    "model.add(tf.keras.layers.Flatten())\n",
    "model.add(tf.keras.layers.BatchNormalization())\n",
    "model.add(tf.keras.layers.Dense(128, activation='relu'))\n",
    "model.add(tf.keras.layers.Dense(256, activation='relu'))\n",
    "model.add(tf.keras.layers.Dense(10,activation='softmax'))\n",
    "  \n",
    "  \n"
   ]
  },
  {
   "cell_type": "code",
   "execution_count": 8,
   "metadata": {},
   "outputs": [
    {
     "name": "stdout",
     "output_type": "stream",
     "text": [
      "Epoch 1/20\n"
     ]
    },
    {
     "name": "stderr",
     "output_type": "stream",
     "text": [
      "/home/sjhjrok/anaconda3/envs/ai/lib/python3.10/site-packages/keras/backend.py:5585: UserWarning: \"`sparse_categorical_crossentropy` received `from_logits=True`, but the `output` argument was produced by a Softmax activation and thus does not represent logits. Was this intended?\n",
      "  output, from_logits = _get_logits(\n"
     ]
    },
    {
     "name": "stdout",
     "output_type": "stream",
     "text": [
      "391/391 [==============================] - 170s 363ms/step - loss: 0.8578 - accuracy: 0.7140 - val_loss: 3.0410 - val_accuracy: 0.1000\n",
      "Epoch 2/20\n",
      "391/391 [==============================] - 149s 374ms/step - loss: 0.6433 - accuracy: 0.7894 - val_loss: 2.6151 - val_accuracy: 0.2915\n",
      "Epoch 3/20\n",
      "391/391 [==============================] - 171s 438ms/step - loss: 0.3785 - accuracy: 0.8735 - val_loss: 0.6494 - val_accuracy: 0.7917\n",
      "Epoch 4/20\n",
      "391/391 [==============================] - 136s 349ms/step - loss: 0.2942 - accuracy: 0.9003 - val_loss: 0.7085 - val_accuracy: 0.7996\n",
      "Epoch 5/20\n",
      "391/391 [==============================] - 145s 364ms/step - loss: 0.4361 - accuracy: 0.8687 - val_loss: 64.6098 - val_accuracy: 0.0924\n",
      "Epoch 6/20\n",
      "391/391 [==============================] - 158s 398ms/step - loss: 0.6221 - accuracy: 0.7910 - val_loss: 0.9636 - val_accuracy: 0.6986\n",
      "Epoch 7/20\n",
      "391/391 [==============================] - 122s 311ms/step - loss: 0.3762 - accuracy: 0.8768 - val_loss: 0.7076 - val_accuracy: 0.7739\n",
      "Epoch 8/20\n",
      "391/391 [==============================] - 131s 328ms/step - loss: 0.2854 - accuracy: 0.9070 - val_loss: 0.8675 - val_accuracy: 0.7325\n",
      "Epoch 9/20\n",
      "391/391 [==============================] - 149s 381ms/step - loss: 0.2473 - accuracy: 0.9177 - val_loss: 0.7059 - val_accuracy: 0.8042\n",
      "Epoch 10/20\n",
      "391/391 [==============================] - 143s 366ms/step - loss: 0.1874 - accuracy: 0.9379 - val_loss: 1.0850 - val_accuracy: 0.7111\n",
      "Epoch 11/20\n",
      "391/391 [==============================] - 155s 382ms/step - loss: 0.2440 - accuracy: 0.9174 - val_loss: 0.7248 - val_accuracy: 0.7925\n",
      "Epoch 12/20\n",
      "391/391 [==============================] - 123s 307ms/step - loss: 0.0995 - accuracy: 0.9670 - val_loss: 0.7636 - val_accuracy: 0.8171\n",
      "Epoch 13/20\n",
      "391/391 [==============================] - 119s 298ms/step - loss: 0.0623 - accuracy: 0.9787 - val_loss: 0.7432 - val_accuracy: 0.8305\n",
      "Epoch 14/20\n",
      "391/391 [==============================] - 121s 309ms/step - loss: 0.0712 - accuracy: 0.9760 - val_loss: 1.0912 - val_accuracy: 0.7640\n",
      "Epoch 15/20\n",
      "391/391 [==============================] - 119s 296ms/step - loss: 0.0694 - accuracy: 0.9765 - val_loss: 1.0764 - val_accuracy: 0.7595\n",
      "Epoch 16/20\n",
      "391/391 [==============================] - 150s 378ms/step - loss: 0.0719 - accuracy: 0.9757 - val_loss: 1.3735 - val_accuracy: 0.7396\n",
      "Epoch 17/20\n",
      "391/391 [==============================] - 121s 311ms/step - loss: 0.0732 - accuracy: 0.9761 - val_loss: 0.9182 - val_accuracy: 0.7879\n",
      "Epoch 18/20\n",
      "391/391 [==============================] - 129s 321ms/step - loss: 0.0665 - accuracy: 0.9783 - val_loss: 2.1652 - val_accuracy: 0.6273\n",
      "Epoch 19/20\n",
      "391/391 [==============================] - 145s 358ms/step - loss: 0.0545 - accuracy: 0.9815 - val_loss: 0.8588 - val_accuracy: 0.8179\n",
      "Epoch 20/20\n",
      "391/391 [==============================] - 130s 319ms/step - loss: 0.0682 - accuracy: 0.9791 - val_loss: 13.3233 - val_accuracy: 0.4040\n"
     ]
    },
    {
     "data": {
      "text/plain": [
       "<keras.callbacks.History at 0x7f303002f5b0>"
      ]
     },
     "execution_count": 8,
     "metadata": {},
     "output_type": "execute_result"
    }
   ],
   "source": [
    "#Traditional Training\n",
    "#model = tf.keras.models.Sequential([\n",
    "#  tf.keras.layers.Flatten(input_shape=(32, 32, 3)),\n",
    "#  tf.keras.layers.Dense(128, activation='relu'),\n",
    "#  tf.keras.layers.Dense(10)\n",
    "#])\n",
    "model.compile(\n",
    "    optimizer=tf.keras.optimizers.Adam(0.001),\n",
    "    loss=tf.keras.losses.SparseCategoricalCrossentropy(from_logits=True),\n",
    "    metrics=[tf.keras.metrics.SparseCategoricalAccuracy(name='accuracy')],\n",
    ")\n",
    "\n",
    "model.fit(\n",
    "    ds_train,\n",
    "    epochs=20,\n",
    "    batch_size=20,\n",
    "    validation_data=ds_test,\n",
    ")\n"
   ]
  },
  {
   "cell_type": "code",
   "execution_count": 9,
   "metadata": {},
   "outputs": [
    {
     "name": "stdout",
     "output_type": "stream",
     "text": [
      "Epoch 1/10\n",
      "391/391 [==============================] - 125s 295ms/step - loss: 0.2673 - accuracy: 0.9362 - val_loss: 0.7178 - val_accuracy: 0.8143\n",
      "Epoch 2/10\n",
      "391/391 [==============================] - 109s 280ms/step - loss: 0.1791 - accuracy: 0.9518 - val_loss: 0.6613 - val_accuracy: 0.8252\n",
      "Epoch 3/10\n",
      "391/391 [==============================] - 112s 287ms/step - loss: 0.1329 - accuracy: 0.9624 - val_loss: 0.6403 - val_accuracy: 0.8339\n",
      "Epoch 4/10\n",
      "391/391 [==============================] - 115s 295ms/step - loss: 0.1029 - accuracy: 0.9695 - val_loss: 0.6272 - val_accuracy: 0.8391\n",
      "Epoch 5/10\n",
      "391/391 [==============================] - 113s 289ms/step - loss: 0.0824 - accuracy: 0.9756 - val_loss: 0.6233 - val_accuracy: 0.8434\n",
      "Epoch 6/10\n",
      "391/391 [==============================] - 112s 286ms/step - loss: 0.0673 - accuracy: 0.9797 - val_loss: 0.6205 - val_accuracy: 0.8458\n",
      "Epoch 7/10\n",
      "391/391 [==============================] - 112s 286ms/step - loss: 0.0550 - accuracy: 0.9842 - val_loss: 0.6178 - val_accuracy: 0.8484\n",
      "Epoch 8/10\n",
      "391/391 [==============================] - 112s 287ms/step - loss: 0.0467 - accuracy: 0.9859 - val_loss: 0.6245 - val_accuracy: 0.8497\n",
      "Epoch 9/10\n",
      "391/391 [==============================] - 115s 294ms/step - loss: 0.0407 - accuracy: 0.9884 - val_loss: 0.6309 - val_accuracy: 0.8523\n",
      "Epoch 10/10\n",
      "391/391 [==============================] - 110s 280ms/step - loss: 0.0302 - accuracy: 0.9912 - val_loss: 0.6389 - val_accuracy: 0.8532\n"
     ]
    }
   ],
   "source": [
    "# Unfreeze the base model\n",
    "base_model.trainable = True\n",
    "\n",
    "# It's important to recompile your model after you make any changes\n",
    "# to the `trainable` attribute of any inner layer, so that your changes\n",
    "# are take into account\n",
    "model.compile(\n",
    "    optimizer=tf.keras.optimizers.Adam(1e-5),\n",
    "    loss=tf.keras.losses.SparseCategoricalCrossentropy(from_logits=True),\n",
    "    metrics=[tf.keras.metrics.SparseCategoricalAccuracy(name='accuracy')],\n",
    ")\n",
    "testing = model.fit(\n",
    "    ds_train,\n",
    "    epochs=10,\n",
    "    batch_size=20,\n",
    "    validation_data=ds_test,\n",
    ")\n",
    "\n"
   ]
  },
  {
   "cell_type": "code",
   "execution_count": 10,
   "metadata": {},
   "outputs": [
    {
     "data": {
      "text/plain": [
       "<function matplotlib.pyplot.show(close=None, block=None)>"
      ]
     },
     "execution_count": 10,
     "metadata": {},
     "output_type": "execute_result"
    },
    {
     "data": {
      "image/png": "[encoded data removed]",
      "text/plain": [
       "<Figure size 640x480 with 1 Axes>"
      ]
     },
     "metadata": {},
     "output_type": "display_data"
    }
   ],
   "source": [
    "\n",
    "plt.plot(\n",
    "    np.arange(1, 11), \n",
    "    testing.history['accuracy'], label='Accuracy'\n",
    ")\n",
    "plt.show"
   ]
  },
  {
   "cell_type": "code",
   "execution_count": 11,
   "metadata": {},
   "outputs": [
    {
     "data": {
      "text/plain": [
       "<function matplotlib.pyplot.show(close=None, block=None)>"
      ]
     },
     "execution_count": 11,
     "metadata": {},
     "output_type": "execute_result"
    },
    {
     "data": {
      "image/png": "[encoded data removed]",
      "text/plain": [
       "<Figure size 640x480 with 1 Axes>"
      ]
     },
     "metadata": {},
     "output_type": "display_data"
    }
   ],
   "source": [
    "plt.plot(\n",
    "    np.arange(1, 11), \n",
    "    testing.history['loss'], label='Loss'\n",
    ")\n",
    "plt.show"
   ]
  },
  {
   "cell_type": "code",
   "execution_count": 12,
   "metadata": {},
   "outputs": [
    {
     "name": "stdout",
     "output_type": "stream",
     "text": [
      "79/79 [==============================] - 3s 32ms/step - loss: 0.6389 - accuracy: 0.8532\n"
     ]
    },
    {
     "data": {
      "text/plain": [
       "[0.6388927698135376, 0.8532000184059143]"
      ]
     },
     "execution_count": 12,
     "metadata": {},
     "output_type": "execute_result"
    }
   ],
   "source": [
    "model.evaluate(ds_test)\n"
   ]
  }
 ],
 "metadata": {
  "kernelspec": {
   "display_name": "ai",
   "language": "python",
   "name": "python3"
  },
  "language_info": {
   "codemirror_mode": {
    "name": "ipython",
    "version": 3
   },
   "file_extension": ".py",
   "mimetype": "text/x-python",
   "name": "python",
   "nbconvert_exporter": "python",
   "pygments_lexer": "ipython3",
   "version": "3.10.9"
  },
  "orig_nbformat": 4,
  "vscode": {
   "interpreter": {
    "hash": "901513f973fd39939338493543c75a11bbe7066eaea51c7c442242fe74390079"
   }
  }
 },
 "nbformat": 4,
 "nbformat_minor": 2
}
