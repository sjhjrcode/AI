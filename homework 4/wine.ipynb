{
 "cells": [
  {
   "cell_type": "code",
   "execution_count": 1,
   "metadata": {},
   "outputs": [],
   "source": [
    "## Import Necessary Functions \n",
    "import numpy as np\n",
    "import matplotlib.pyplot as plt\n",
    "\n",
    "\n",
    "\n",
    "#You will use Vine Dataset you can get the detail in the URL below\n",
    "#https://archive.ics.uci.edu/ml/datasets/Wine\n",
    "\n",
    "from sklearn.datasets import load_wine\n",
    "vine = load_wine()"
   ]
  },
  {
   "cell_type": "code",
   "execution_count": 2,
   "metadata": {},
   "outputs": [
    {
     "name": "stdout",
     "output_type": "stream",
     "text": [
      "(178, 13)\n",
      "(178,)\n",
      "0\n",
      "(3,)\n",
      "['alcohol', 'malic_acid', 'ash', 'alcalinity_of_ash', 'magnesium', 'total_phenols', 'flavanoids', 'nonflavanoid_phenols', 'proanthocyanins', 'color_intensity', 'hue', 'od280/od315_of_diluted_wines', 'proline']\n"
     ]
    }
   ],
   "source": [
    "# PRINT FOR YOUR INTUITION SO YOU KNOW THE DIMENSIONS YOU ARE WORKING WITH\n",
    "print(vine.data.shape) #.data contains the features\n",
    "print(vine.target.shape)\n",
    "print(vine.target[0]) #.target contains the target variables\n",
    "print(vine.target_names.shape)\n",
    "print(vine.feature_names)"
   ]
  },
  {
   "cell_type": "code",
   "execution_count": 3,
   "metadata": {},
   "outputs": [
    {
     "name": "stderr",
     "output_type": "stream",
     "text": [
      "2023-04-10 19:14:14.349554: I tensorflow/core/platform/cpu_feature_guard.cc:193] This TensorFlow binary is optimized with oneAPI Deep Neural Network Library (oneDNN) to use the following CPU instructions in performance-critical operations:  SSE3 SSE4.1 SSE4.2 AVX AVX2 FMA\n",
      "To enable them in other operations, rebuild TensorFlow with the appropriate compiler flags.\n"
     ]
    }
   ],
   "source": [
    "#SPLIT THE DATA INTO TRAINING AND TESTING SET\n",
    "#WHEN CALLING THE DATA use vine.data instance as well as vine.target.astype('int')\n",
    "#THE SPLIT OF DATA IS UPTO YOU\n",
    "from tensorflow.keras.utils import to_categorical\n",
    "from sklearn.model_selection import train_test_split\n",
    "X, y = load_wine(return_X_y=True)\n",
    "y = to_categorical(y)\n",
    "\n",
    "\n",
    "\n",
    "X2_train, X2_test, y2_train, y2_test = train_test_split(X, y,random_state=104,test_size=0.3,shuffle=True)"
   ]
  },
  {
   "cell_type": "code",
   "execution_count": 4,
   "metadata": {},
   "outputs": [
    {
     "data": {
      "text/plain": [
       "((124, 13), (54, 13))"
      ]
     },
     "execution_count": 4,
     "metadata": {},
     "output_type": "execute_result"
    }
   ],
   "source": [
    "X2_train.shape, X2_test.shape\n"
   ]
  },
  {
   "cell_type": "code",
   "execution_count": 5,
   "metadata": {},
   "outputs": [
    {
     "data": {
      "text/plain": [
       "((124, 3), (54, 3))"
      ]
     },
     "execution_count": 5,
     "metadata": {},
     "output_type": "execute_result"
    }
   ],
   "source": [
    "y2_train.shape, y2_test.shape"
   ]
  },
  {
   "cell_type": "code",
   "execution_count": 6,
   "metadata": {},
   "outputs": [
    {
     "name": "stdout",
     "output_type": "stream",
     "text": [
      "[[0. 1. 0.]\n",
      " [1. 0. 0.]\n",
      " [0. 1. 0.]\n",
      " [0. 0. 1.]\n",
      " [0. 1. 0.]\n",
      " [0. 1. 0.]\n",
      " [1. 0. 0.]\n",
      " [0. 1. 0.]\n",
      " [0. 0. 1.]\n",
      " [1. 0. 0.]\n",
      " [0. 1. 0.]\n",
      " [0. 1. 0.]\n",
      " [1. 0. 0.]\n",
      " [1. 0. 0.]\n",
      " [1. 0. 0.]\n",
      " [0. 0. 1.]\n",
      " [0. 1. 0.]\n",
      " [0. 0. 1.]\n",
      " [0. 0. 1.]\n",
      " [0. 1. 0.]\n",
      " [1. 0. 0.]\n",
      " [0. 0. 1.]\n",
      " [0. 0. 1.]\n",
      " [0. 0. 1.]\n",
      " [1. 0. 0.]\n",
      " [0. 1. 0.]\n",
      " [0. 1. 0.]\n",
      " [0. 0. 1.]\n",
      " [0. 1. 0.]\n",
      " [0. 0. 1.]\n",
      " [1. 0. 0.]\n",
      " [0. 1. 0.]\n",
      " [0. 1. 0.]\n",
      " [0. 1. 0.]\n",
      " [0. 0. 1.]\n",
      " [0. 0. 1.]\n",
      " [1. 0. 0.]\n",
      " [1. 0. 0.]\n",
      " [0. 1. 0.]\n",
      " [0. 1. 0.]\n",
      " [1. 0. 0.]\n",
      " [0. 1. 0.]\n",
      " [0. 1. 0.]\n",
      " [0. 1. 0.]\n",
      " [1. 0. 0.]\n",
      " [0. 1. 0.]\n",
      " [0. 1. 0.]\n",
      " [0. 1. 0.]\n",
      " [1. 0. 0.]\n",
      " [1. 0. 0.]\n",
      " [0. 1. 0.]\n",
      " [1. 0. 0.]\n",
      " [0. 1. 0.]\n",
      " [0. 1. 0.]\n",
      " [0. 0. 1.]\n",
      " [0. 1. 0.]\n",
      " [1. 0. 0.]\n",
      " [0. 1. 0.]\n",
      " [0. 0. 1.]\n",
      " [1. 0. 0.]\n",
      " [0. 1. 0.]\n",
      " [0. 0. 1.]\n",
      " [0. 1. 0.]\n",
      " [0. 0. 1.]\n",
      " [1. 0. 0.]\n",
      " [0. 0. 1.]\n",
      " [0. 1. 0.]\n",
      " [1. 0. 0.]\n",
      " [1. 0. 0.]\n",
      " [1. 0. 0.]\n",
      " [0. 1. 0.]\n",
      " [0. 1. 0.]\n",
      " [0. 1. 0.]\n",
      " [0. 1. 0.]\n",
      " [1. 0. 0.]\n",
      " [0. 1. 0.]\n",
      " [0. 0. 1.]\n",
      " [0. 0. 1.]\n",
      " [0. 1. 0.]\n",
      " [1. 0. 0.]\n",
      " [1. 0. 0.]\n",
      " [1. 0. 0.]\n",
      " [0. 1. 0.]\n",
      " [0. 1. 0.]\n",
      " [0. 0. 1.]\n",
      " [0. 0. 1.]\n",
      " [1. 0. 0.]\n",
      " [0. 0. 1.]\n",
      " [0. 1. 0.]\n",
      " [0. 0. 1.]\n",
      " [0. 0. 1.]\n",
      " [0. 0. 1.]\n",
      " [0. 1. 0.]\n",
      " [1. 0. 0.]\n",
      " [1. 0. 0.]\n",
      " [0. 0. 1.]\n",
      " [1. 0. 0.]\n",
      " [0. 1. 0.]\n",
      " [0. 1. 0.]\n",
      " [1. 0. 0.]\n",
      " [0. 1. 0.]\n",
      " [0. 1. 0.]\n",
      " [0. 0. 1.]\n",
      " [0. 1. 0.]\n",
      " [0. 1. 0.]\n",
      " [0. 0. 1.]\n",
      " [0. 0. 1.]\n",
      " [1. 0. 0.]\n",
      " [0. 1. 0.]\n",
      " [0. 0. 1.]\n",
      " [0. 1. 0.]\n",
      " [0. 0. 1.]\n",
      " [0. 0. 1.]\n",
      " [1. 0. 0.]\n",
      " [0. 0. 1.]\n",
      " [1. 0. 0.]\n",
      " [0. 1. 0.]\n",
      " [0. 1. 0.]\n",
      " [0. 1. 0.]\n",
      " [1. 0. 0.]\n",
      " [0. 1. 0.]\n",
      " [0. 0. 1.]\n",
      " [0. 0. 1.]\n",
      " [0. 1. 0.]]\n"
     ]
    }
   ],
   "source": [
    "print(y2_train)\n",
    "\n"
   ]
  },
  {
   "cell_type": "code",
   "execution_count": 7,
   "metadata": {},
   "outputs": [
    {
     "name": "stdout",
     "output_type": "stream",
     "text": [
      "[[1.165e+01 1.670e+00 2.620e+00 ... 1.360e+00 3.210e+00 5.620e+02]\n",
      " [1.383e+01 1.570e+00 2.620e+00 ... 1.130e+00 2.570e+00 1.130e+03]\n",
      " [1.184e+01 8.900e-01 2.580e+00 ... 7.900e-01 3.080e+00 5.200e+02]\n",
      " ...\n",
      " [1.345e+01 3.700e+00 2.600e+00 ... 8.500e-01 1.560e+00 6.950e+02]\n",
      " [1.352e+01 3.170e+00 2.720e+00 ... 8.900e-01 2.060e+00 5.200e+02]\n",
      " [1.221e+01 1.190e+00 1.750e+00 ... 1.280e+00 3.070e+00 7.180e+02]]\n"
     ]
    }
   ],
   "source": [
    "print(X2_train)"
   ]
  },
  {
   "cell_type": "code",
   "execution_count": 8,
   "metadata": {},
   "outputs": [
    {
     "name": "stdout",
     "output_type": "stream",
     "text": [
      "2.11.0\n"
     ]
    }
   ],
   "source": [
    "import tensorflow as tf\n",
    "\n",
    "print(tf.__version__)\n"
   ]
  },
  {
   "cell_type": "code",
   "execution_count": 9,
   "metadata": {},
   "outputs": [],
   "source": [
    "input_dim = X2_train.shape[1:]\n",
    "output_dim = y.shape[1]"
   ]
  },
  {
   "cell_type": "code",
   "execution_count": 10,
   "metadata": {},
   "outputs": [],
   "source": [
    "model = tf.keras.Sequential([\n",
    "    tf.keras.layers.Flatten(input_shape=input_dim),\n",
    "    #tf.keras.layers.GlobalAveragePooling2D(),\n",
    "    tf.keras.layers.BatchNormalization(),\n",
    "    tf.keras.layers.Dense(128, activation='relu'),\n",
    "    tf.keras.layers.Dense(256, activation='relu'),\n",
    "    tf.keras.layers.Dense(output_dim, activation='softmax')\n",
    "])\n"
   ]
  },
  {
   "cell_type": "code",
   "execution_count": 11,
   "metadata": {},
   "outputs": [],
   "source": [
    "model.compile(\n",
    "    loss='categorical_crossentropy',\n",
    "    optimizer='adam',\n",
    "    metrics=[\n",
    "        tf.keras.metrics.BinaryAccuracy(name='accuracy'),\n",
    "        tf.keras.metrics.Precision(name='precision'),\n",
    "        tf.keras.metrics.Recall(name='recall')\n",
    "    ]\n",
    ")\n"
   ]
  },
  {
   "cell_type": "code",
   "execution_count": 12,
   "metadata": {},
   "outputs": [
    {
     "name": "stdout",
     "output_type": "stream",
     "text": [
      "Epoch 1/100\n",
      "4/4 [==============================] - 3s 59ms/step - loss: 1.0229 - accuracy: 0.7016 - precision: 1.0000 - recall: 0.1048 - val_loss: 0.9391 - val_accuracy: 0.6914 - val_precision: 0.5769 - val_recall: 0.2778\n",
      "Epoch 2/100\n",
      "4/4 [==============================] - 0s 9ms/step - loss: 0.6595 - accuracy: 0.8522 - precision: 0.9859 - recall: 0.5645 - val_loss: 0.7739 - val_accuracy: 0.7593 - val_precision: 0.6471 - val_recall: 0.6111\n",
      "Epoch 3/100\n",
      "4/4 [==============================] - 0s 8ms/step - loss: 0.4370 - accuracy: 0.9462 - precision: 0.9727 - recall: 0.8629 - val_loss: 1.1619 - val_accuracy: 0.6605 - val_precision: 0.4906 - val_recall: 0.4815\n",
      "Epoch 4/100\n",
      "4/4 [==============================] - 0s 8ms/step - loss: 0.2671 - accuracy: 0.9839 - precision: 0.9917 - recall: 0.9597 - val_loss: 1.8216 - val_accuracy: 0.6420 - val_precision: 0.4630 - val_recall: 0.4630\n",
      "Epoch 5/100\n",
      "4/4 [==============================] - 0s 9ms/step - loss: 0.1991 - accuracy: 0.9785 - precision: 0.9833 - recall: 0.9516 - val_loss: 2.4049 - val_accuracy: 0.6420 - val_precision: 0.4630 - val_recall: 0.4630\n",
      "Epoch 6/100\n",
      "4/4 [==============================] - 0s 8ms/step - loss: 0.1335 - accuracy: 0.9919 - precision: 0.9919 - recall: 0.9839 - val_loss: 2.9952 - val_accuracy: 0.6420 - val_precision: 0.4630 - val_recall: 0.4630\n",
      "Epoch 7/100\n",
      "4/4 [==============================] - 0s 8ms/step - loss: 0.0924 - accuracy: 0.9919 - precision: 1.0000 - recall: 0.9758 - val_loss: 3.7306 - val_accuracy: 0.6420 - val_precision: 0.4630 - val_recall: 0.4630\n",
      "Epoch 8/100\n",
      "4/4 [==============================] - 0s 8ms/step - loss: 0.0621 - accuracy: 1.0000 - precision: 1.0000 - recall: 1.0000 - val_loss: 4.3490 - val_accuracy: 0.6420 - val_precision: 0.4630 - val_recall: 0.4630\n",
      "Epoch 9/100\n",
      "4/4 [==============================] - 0s 8ms/step - loss: 0.0554 - accuracy: 0.9946 - precision: 0.9919 - recall: 0.9919 - val_loss: 4.7162 - val_accuracy: 0.6420 - val_precision: 0.4630 - val_recall: 0.4630\n",
      "Epoch 10/100\n",
      "4/4 [==============================] - 0s 8ms/step - loss: 0.0344 - accuracy: 1.0000 - precision: 1.0000 - recall: 1.0000 - val_loss: 5.0204 - val_accuracy: 0.6420 - val_precision: 0.4630 - val_recall: 0.4630\n",
      "Epoch 11/100\n",
      "4/4 [==============================] - 0s 8ms/step - loss: 0.0519 - accuracy: 0.9839 - precision: 0.9758 - recall: 0.9758 - val_loss: 5.2648 - val_accuracy: 0.6420 - val_precision: 0.4630 - val_recall: 0.4630\n",
      "Epoch 12/100\n",
      "4/4 [==============================] - 0s 8ms/step - loss: 0.0259 - accuracy: 1.0000 - precision: 1.0000 - recall: 1.0000 - val_loss: 5.4763 - val_accuracy: 0.6420 - val_precision: 0.4630 - val_recall: 0.4630\n",
      "Epoch 13/100\n",
      "4/4 [==============================] - 0s 8ms/step - loss: 0.0252 - accuracy: 1.0000 - precision: 1.0000 - recall: 1.0000 - val_loss: 5.6019 - val_accuracy: 0.6420 - val_precision: 0.4630 - val_recall: 0.4630\n",
      "Epoch 14/100\n",
      "4/4 [==============================] - 0s 8ms/step - loss: 0.0341 - accuracy: 1.0000 - precision: 1.0000 - recall: 1.0000 - val_loss: 5.6287 - val_accuracy: 0.6420 - val_precision: 0.4630 - val_recall: 0.4630\n",
      "Epoch 15/100\n",
      "4/4 [==============================] - 0s 8ms/step - loss: 0.0418 - accuracy: 0.9892 - precision: 0.9839 - recall: 0.9839 - val_loss: 5.5947 - val_accuracy: 0.6420 - val_precision: 0.4630 - val_recall: 0.4630\n",
      "Epoch 16/100\n",
      "4/4 [==============================] - 0s 9ms/step - loss: 0.0674 - accuracy: 0.9866 - precision: 0.9837 - recall: 0.9758 - val_loss: 5.3610 - val_accuracy: 0.6667 - val_precision: 0.5000 - val_recall: 0.5000\n",
      "Epoch 17/100\n",
      "4/4 [==============================] - 0s 11ms/step - loss: 0.0142 - accuracy: 1.0000 - precision: 1.0000 - recall: 1.0000 - val_loss: 5.1325 - val_accuracy: 0.6914 - val_precision: 0.5370 - val_recall: 0.5370\n",
      "Epoch 18/100\n",
      "4/4 [==============================] - 0s 11ms/step - loss: 0.0167 - accuracy: 1.0000 - precision: 1.0000 - recall: 1.0000 - val_loss: 4.9781 - val_accuracy: 0.7037 - val_precision: 0.5556 - val_recall: 0.5556\n",
      "Epoch 19/100\n",
      "4/4 [==============================] - 0s 8ms/step - loss: 0.0123 - accuracy: 1.0000 - precision: 1.0000 - recall: 1.0000 - val_loss: 4.9083 - val_accuracy: 0.7037 - val_precision: 0.5556 - val_recall: 0.5556\n",
      "Epoch 20/100\n",
      "4/4 [==============================] - 0s 8ms/step - loss: 0.0125 - accuracy: 1.0000 - precision: 1.0000 - recall: 1.0000 - val_loss: 4.7990 - val_accuracy: 0.7160 - val_precision: 0.5741 - val_recall: 0.5741\n",
      "Epoch 21/100\n",
      "4/4 [==============================] - 0s 8ms/step - loss: 0.0082 - accuracy: 1.0000 - precision: 1.0000 - recall: 1.0000 - val_loss: 4.6787 - val_accuracy: 0.7160 - val_precision: 0.5741 - val_recall: 0.5741\n",
      "Epoch 22/100\n",
      "4/4 [==============================] - 0s 8ms/step - loss: 0.0214 - accuracy: 1.0000 - precision: 1.0000 - recall: 1.0000 - val_loss: 4.6256 - val_accuracy: 0.7284 - val_precision: 0.5926 - val_recall: 0.5926\n",
      "Epoch 23/100\n",
      "4/4 [==============================] - 0s 8ms/step - loss: 0.0060 - accuracy: 1.0000 - precision: 1.0000 - recall: 1.0000 - val_loss: 4.5292 - val_accuracy: 0.7284 - val_precision: 0.5926 - val_recall: 0.5926\n",
      "Epoch 24/100\n",
      "4/4 [==============================] - 0s 8ms/step - loss: 0.0219 - accuracy: 0.9946 - precision: 0.9919 - recall: 0.9919 - val_loss: 4.4385 - val_accuracy: 0.7284 - val_precision: 0.5926 - val_recall: 0.5926\n",
      "Epoch 25/100\n",
      "4/4 [==============================] - 0s 8ms/step - loss: 0.0236 - accuracy: 1.0000 - precision: 1.0000 - recall: 1.0000 - val_loss: 4.3065 - val_accuracy: 0.7284 - val_precision: 0.5926 - val_recall: 0.5926\n",
      "Epoch 26/100\n",
      "4/4 [==============================] - 0s 8ms/step - loss: 0.0182 - accuracy: 1.0000 - precision: 1.0000 - recall: 1.0000 - val_loss: 3.9896 - val_accuracy: 0.7407 - val_precision: 0.6111 - val_recall: 0.6111\n",
      "Epoch 27/100\n",
      "4/4 [==============================] - 0s 8ms/step - loss: 0.0137 - accuracy: 1.0000 - precision: 1.0000 - recall: 1.0000 - val_loss: 3.7629 - val_accuracy: 0.7531 - val_precision: 0.6296 - val_recall: 0.6296\n",
      "Epoch 28/100\n",
      "4/4 [==============================] - 0s 8ms/step - loss: 0.0081 - accuracy: 1.0000 - precision: 1.0000 - recall: 1.0000 - val_loss: 3.5623 - val_accuracy: 0.7778 - val_precision: 0.6667 - val_recall: 0.6667\n",
      "Epoch 29/100\n",
      "4/4 [==============================] - 0s 9ms/step - loss: 0.0067 - accuracy: 1.0000 - precision: 1.0000 - recall: 1.0000 - val_loss: 3.3852 - val_accuracy: 0.7778 - val_precision: 0.6667 - val_recall: 0.6667\n",
      "Epoch 30/100\n",
      "4/4 [==============================] - 0s 8ms/step - loss: 0.0091 - accuracy: 1.0000 - precision: 1.0000 - recall: 1.0000 - val_loss: 3.2868 - val_accuracy: 0.7901 - val_precision: 0.6852 - val_recall: 0.6852\n",
      "Epoch 31/100\n",
      "4/4 [==============================] - 0s 8ms/step - loss: 0.0085 - accuracy: 1.0000 - precision: 1.0000 - recall: 1.0000 - val_loss: 3.1734 - val_accuracy: 0.7901 - val_precision: 0.6852 - val_recall: 0.6852\n",
      "Epoch 32/100\n",
      "4/4 [==============================] - 0s 12ms/step - loss: 0.0135 - accuracy: 1.0000 - precision: 1.0000 - recall: 1.0000 - val_loss: 3.1340 - val_accuracy: 0.7901 - val_precision: 0.6852 - val_recall: 0.6852\n",
      "Epoch 33/100\n",
      "4/4 [==============================] - 0s 10ms/step - loss: 0.0427 - accuracy: 0.9892 - precision: 0.9839 - recall: 0.9839 - val_loss: 2.8653 - val_accuracy: 0.7901 - val_precision: 0.6852 - val_recall: 0.6852\n",
      "Epoch 34/100\n",
      "4/4 [==============================] - 0s 8ms/step - loss: 0.0051 - accuracy: 1.0000 - precision: 1.0000 - recall: 1.0000 - val_loss: 2.6929 - val_accuracy: 0.7901 - val_precision: 0.6852 - val_recall: 0.6852\n",
      "Epoch 35/100\n",
      "4/4 [==============================] - 0s 8ms/step - loss: 0.0040 - accuracy: 1.0000 - precision: 1.0000 - recall: 1.0000 - val_loss: 2.5280 - val_accuracy: 0.8025 - val_precision: 0.7037 - val_recall: 0.7037\n",
      "Epoch 36/100\n",
      "4/4 [==============================] - 0s 9ms/step - loss: 0.0076 - accuracy: 1.0000 - precision: 1.0000 - recall: 1.0000 - val_loss: 2.4109 - val_accuracy: 0.8025 - val_precision: 0.7037 - val_recall: 0.7037\n",
      "Epoch 37/100\n",
      "4/4 [==============================] - 0s 8ms/step - loss: 0.0029 - accuracy: 1.0000 - precision: 1.0000 - recall: 1.0000 - val_loss: 2.3301 - val_accuracy: 0.8025 - val_precision: 0.7037 - val_recall: 0.7037\n",
      "Epoch 38/100\n",
      "4/4 [==============================] - 0s 8ms/step - loss: 0.0074 - accuracy: 1.0000 - precision: 1.0000 - recall: 1.0000 - val_loss: 2.2593 - val_accuracy: 0.8025 - val_precision: 0.7037 - val_recall: 0.7037\n",
      "Epoch 39/100\n",
      "4/4 [==============================] - 0s 8ms/step - loss: 0.0051 - accuracy: 1.0000 - precision: 1.0000 - recall: 1.0000 - val_loss: 2.2173 - val_accuracy: 0.8025 - val_precision: 0.7037 - val_recall: 0.7037\n",
      "Epoch 40/100\n",
      "4/4 [==============================] - 0s 8ms/step - loss: 0.0068 - accuracy: 1.0000 - precision: 1.0000 - recall: 1.0000 - val_loss: 2.1328 - val_accuracy: 0.8025 - val_precision: 0.7037 - val_recall: 0.7037\n",
      "Epoch 41/100\n",
      "4/4 [==============================] - 0s 8ms/step - loss: 0.0040 - accuracy: 1.0000 - precision: 1.0000 - recall: 1.0000 - val_loss: 2.0564 - val_accuracy: 0.8025 - val_precision: 0.7037 - val_recall: 0.7037\n",
      "Epoch 42/100\n",
      "4/4 [==============================] - 0s 8ms/step - loss: 0.0024 - accuracy: 1.0000 - precision: 1.0000 - recall: 1.0000 - val_loss: 1.9599 - val_accuracy: 0.8025 - val_precision: 0.7037 - val_recall: 0.7037\n",
      "Epoch 43/100\n",
      "4/4 [==============================] - 0s 9ms/step - loss: 0.0041 - accuracy: 1.0000 - precision: 1.0000 - recall: 1.0000 - val_loss: 1.8548 - val_accuracy: 0.8025 - val_precision: 0.7037 - val_recall: 0.7037\n",
      "Epoch 44/100\n",
      "4/4 [==============================] - 0s 8ms/step - loss: 0.0031 - accuracy: 1.0000 - precision: 1.0000 - recall: 1.0000 - val_loss: 1.7456 - val_accuracy: 0.8148 - val_precision: 0.7222 - val_recall: 0.7222\n",
      "Epoch 45/100\n",
      "4/4 [==============================] - 0s 8ms/step - loss: 0.0023 - accuracy: 1.0000 - precision: 1.0000 - recall: 1.0000 - val_loss: 1.6606 - val_accuracy: 0.8272 - val_precision: 0.7407 - val_recall: 0.7407\n",
      "Epoch 46/100\n",
      "4/4 [==============================] - 0s 9ms/step - loss: 0.0021 - accuracy: 1.0000 - precision: 1.0000 - recall: 1.0000 - val_loss: 1.5705 - val_accuracy: 0.8272 - val_precision: 0.7407 - val_recall: 0.7407\n",
      "Epoch 47/100\n",
      "4/4 [==============================] - 0s 12ms/step - loss: 0.0025 - accuracy: 1.0000 - precision: 1.0000 - recall: 1.0000 - val_loss: 1.4884 - val_accuracy: 0.8395 - val_precision: 0.7593 - val_recall: 0.7593\n",
      "Epoch 48/100\n",
      "4/4 [==============================] - 0s 10ms/step - loss: 0.0159 - accuracy: 0.9946 - precision: 0.9919 - recall: 0.9919 - val_loss: 1.3642 - val_accuracy: 0.8704 - val_precision: 0.8113 - val_recall: 0.7963\n",
      "Epoch 49/100\n",
      "4/4 [==============================] - 0s 9ms/step - loss: 0.0023 - accuracy: 1.0000 - precision: 1.0000 - recall: 1.0000 - val_loss: 1.2370 - val_accuracy: 0.8704 - val_precision: 0.8113 - val_recall: 0.7963\n",
      "Epoch 50/100\n",
      "4/4 [==============================] - 0s 9ms/step - loss: 0.0021 - accuracy: 1.0000 - precision: 1.0000 - recall: 1.0000 - val_loss: 1.1367 - val_accuracy: 0.8704 - val_precision: 0.8113 - val_recall: 0.7963\n",
      "Epoch 51/100\n",
      "4/4 [==============================] - 0s 8ms/step - loss: 0.0024 - accuracy: 1.0000 - precision: 1.0000 - recall: 1.0000 - val_loss: 1.0556 - val_accuracy: 0.8704 - val_precision: 0.8113 - val_recall: 0.7963\n",
      "Epoch 52/100\n",
      "4/4 [==============================] - 0s 8ms/step - loss: 0.0030 - accuracy: 1.0000 - precision: 1.0000 - recall: 1.0000 - val_loss: 0.9957 - val_accuracy: 0.8765 - val_precision: 0.8148 - val_recall: 0.8148\n",
      "Epoch 53/100\n",
      "4/4 [==============================] - 0s 8ms/step - loss: 0.0107 - accuracy: 1.0000 - precision: 1.0000 - recall: 1.0000 - val_loss: 0.9486 - val_accuracy: 0.8765 - val_precision: 0.8148 - val_recall: 0.8148\n",
      "Epoch 54/100\n",
      "4/4 [==============================] - 0s 8ms/step - loss: 0.0015 - accuracy: 1.0000 - precision: 1.0000 - recall: 1.0000 - val_loss: 0.9248 - val_accuracy: 0.8765 - val_precision: 0.8148 - val_recall: 0.8148\n",
      "Epoch 55/100\n",
      "4/4 [==============================] - 0s 9ms/step - loss: 0.0015 - accuracy: 1.0000 - precision: 1.0000 - recall: 1.0000 - val_loss: 0.8919 - val_accuracy: 0.8765 - val_precision: 0.8148 - val_recall: 0.8148\n",
      "Epoch 56/100\n",
      "4/4 [==============================] - 0s 12ms/step - loss: 0.0013 - accuracy: 1.0000 - precision: 1.0000 - recall: 1.0000 - val_loss: 0.8593 - val_accuracy: 0.8765 - val_precision: 0.8148 - val_recall: 0.8148\n",
      "Epoch 57/100\n",
      "4/4 [==============================] - 0s 8ms/step - loss: 0.0084 - accuracy: 1.0000 - precision: 1.0000 - recall: 1.0000 - val_loss: 0.8624 - val_accuracy: 0.8765 - val_precision: 0.8148 - val_recall: 0.8148\n",
      "Epoch 58/100\n",
      "4/4 [==============================] - 0s 8ms/step - loss: 0.0017 - accuracy: 1.0000 - precision: 1.0000 - recall: 1.0000 - val_loss: 0.8618 - val_accuracy: 0.8765 - val_precision: 0.8148 - val_recall: 0.8148\n",
      "Epoch 59/100\n",
      "4/4 [==============================] - 0s 8ms/step - loss: 0.0031 - accuracy: 1.0000 - precision: 1.0000 - recall: 1.0000 - val_loss: 0.8329 - val_accuracy: 0.8765 - val_precision: 0.8148 - val_recall: 0.8148\n",
      "Epoch 60/100\n",
      "4/4 [==============================] - 0s 8ms/step - loss: 0.0016 - accuracy: 1.0000 - precision: 1.0000 - recall: 1.0000 - val_loss: 0.7829 - val_accuracy: 0.8889 - val_precision: 0.8333 - val_recall: 0.8333\n",
      "Epoch 61/100\n",
      "4/4 [==============================] - 0s 9ms/step - loss: 0.0023 - accuracy: 1.0000 - precision: 1.0000 - recall: 1.0000 - val_loss: 0.7325 - val_accuracy: 0.9012 - val_precision: 0.8519 - val_recall: 0.8519\n",
      "Epoch 62/100\n",
      "4/4 [==============================] - 0s 8ms/step - loss: 0.0042 - accuracy: 1.0000 - precision: 1.0000 - recall: 1.0000 - val_loss: 0.6760 - val_accuracy: 0.9136 - val_precision: 0.8704 - val_recall: 0.8704\n",
      "Epoch 63/100\n",
      "4/4 [==============================] - 0s 8ms/step - loss: 0.0010 - accuracy: 1.0000 - precision: 1.0000 - recall: 1.0000 - val_loss: 0.6265 - val_accuracy: 0.9136 - val_precision: 0.8704 - val_recall: 0.8704\n",
      "Epoch 64/100\n",
      "4/4 [==============================] - 0s 8ms/step - loss: 0.0020 - accuracy: 1.0000 - precision: 1.0000 - recall: 1.0000 - val_loss: 0.5793 - val_accuracy: 0.9259 - val_precision: 0.8889 - val_recall: 0.8889\n",
      "Epoch 65/100\n",
      "4/4 [==============================] - 0s 8ms/step - loss: 0.0027 - accuracy: 1.0000 - precision: 1.0000 - recall: 1.0000 - val_loss: 0.5323 - val_accuracy: 0.9259 - val_precision: 0.8889 - val_recall: 0.8889\n",
      "Epoch 66/100\n",
      "4/4 [==============================] - 0s 8ms/step - loss: 7.5105e-04 - accuracy: 1.0000 - precision: 1.0000 - recall: 1.0000 - val_loss: 0.4989 - val_accuracy: 0.9259 - val_precision: 0.8889 - val_recall: 0.8889\n",
      "Epoch 67/100\n",
      "4/4 [==============================] - 0s 8ms/step - loss: 0.0123 - accuracy: 1.0000 - precision: 1.0000 - recall: 1.0000 - val_loss: 0.4634 - val_accuracy: 0.9259 - val_precision: 0.8889 - val_recall: 0.8889\n",
      "Epoch 68/100\n",
      "4/4 [==============================] - 0s 8ms/step - loss: 0.0021 - accuracy: 1.0000 - precision: 1.0000 - recall: 1.0000 - val_loss: 0.4186 - val_accuracy: 0.9259 - val_precision: 0.8889 - val_recall: 0.8889\n",
      "Epoch 69/100\n",
      "4/4 [==============================] - 0s 8ms/step - loss: 0.0043 - accuracy: 1.0000 - precision: 1.0000 - recall: 1.0000 - val_loss: 0.4092 - val_accuracy: 0.9259 - val_precision: 0.8889 - val_recall: 0.8889\n",
      "Epoch 70/100\n",
      "4/4 [==============================] - 0s 9ms/step - loss: 0.0011 - accuracy: 1.0000 - precision: 1.0000 - recall: 1.0000 - val_loss: 0.3947 - val_accuracy: 0.9259 - val_precision: 0.8889 - val_recall: 0.8889\n",
      "Epoch 71/100\n",
      "4/4 [==============================] - 0s 8ms/step - loss: 0.0016 - accuracy: 1.0000 - precision: 1.0000 - recall: 1.0000 - val_loss: 0.3814 - val_accuracy: 0.9259 - val_precision: 0.8889 - val_recall: 0.8889\n",
      "Epoch 72/100\n",
      "4/4 [==============================] - 0s 8ms/step - loss: 9.3385e-04 - accuracy: 1.0000 - precision: 1.0000 - recall: 1.0000 - val_loss: 0.3701 - val_accuracy: 0.9383 - val_precision: 0.9074 - val_recall: 0.9074\n",
      "Epoch 73/100\n",
      "4/4 [==============================] - 0s 8ms/step - loss: 9.2976e-04 - accuracy: 1.0000 - precision: 1.0000 - recall: 1.0000 - val_loss: 0.3588 - val_accuracy: 0.9506 - val_precision: 0.9259 - val_recall: 0.9259\n",
      "Epoch 74/100\n",
      "4/4 [==============================] - 0s 8ms/step - loss: 8.4934e-04 - accuracy: 1.0000 - precision: 1.0000 - recall: 1.0000 - val_loss: 0.3444 - val_accuracy: 0.9506 - val_precision: 0.9259 - val_recall: 0.9259\n",
      "Epoch 75/100\n",
      "4/4 [==============================] - 0s 8ms/step - loss: 0.0086 - accuracy: 0.9946 - precision: 0.9919 - recall: 0.9919 - val_loss: 0.3403 - val_accuracy: 0.9506 - val_precision: 0.9259 - val_recall: 0.9259\n",
      "Epoch 76/100\n",
      "4/4 [==============================] - 0s 8ms/step - loss: 0.0016 - accuracy: 1.0000 - precision: 1.0000 - recall: 1.0000 - val_loss: 0.3696 - val_accuracy: 0.9383 - val_precision: 0.9074 - val_recall: 0.9074\n",
      "Epoch 77/100\n",
      "4/4 [==============================] - 0s 8ms/step - loss: 5.1882e-04 - accuracy: 1.0000 - precision: 1.0000 - recall: 1.0000 - val_loss: 0.3780 - val_accuracy: 0.9383 - val_precision: 0.9074 - val_recall: 0.9074\n",
      "Epoch 78/100\n",
      "4/4 [==============================] - 0s 8ms/step - loss: 0.0176 - accuracy: 0.9946 - precision: 0.9919 - recall: 0.9919 - val_loss: 0.3348 - val_accuracy: 0.9383 - val_precision: 0.9074 - val_recall: 0.9074\n",
      "Epoch 79/100\n",
      "4/4 [==============================] - 0s 8ms/step - loss: 0.0015 - accuracy: 1.0000 - precision: 1.0000 - recall: 1.0000 - val_loss: 0.2077 - val_accuracy: 0.9506 - val_precision: 0.9259 - val_recall: 0.9259\n",
      "Epoch 80/100\n",
      "4/4 [==============================] - 0s 8ms/step - loss: 0.0519 - accuracy: 0.9866 - precision: 0.9837 - recall: 0.9758 - val_loss: 0.1549 - val_accuracy: 0.9753 - val_precision: 0.9630 - val_recall: 0.9630\n",
      "Epoch 81/100\n",
      "4/4 [==============================] - 0s 8ms/step - loss: 0.0011 - accuracy: 1.0000 - precision: 1.0000 - recall: 1.0000 - val_loss: 0.1622 - val_accuracy: 0.9630 - val_precision: 0.9444 - val_recall: 0.9444\n",
      "Epoch 82/100\n",
      "4/4 [==============================] - 0s 8ms/step - loss: 0.0018 - accuracy: 1.0000 - precision: 1.0000 - recall: 1.0000 - val_loss: 0.1680 - val_accuracy: 0.9753 - val_precision: 0.9630 - val_recall: 0.9630\n",
      "Epoch 83/100\n",
      "4/4 [==============================] - 0s 8ms/step - loss: 0.0018 - accuracy: 1.0000 - precision: 1.0000 - recall: 1.0000 - val_loss: 0.1719 - val_accuracy: 0.9753 - val_precision: 0.9630 - val_recall: 0.9630\n",
      "Epoch 84/100\n",
      "4/4 [==============================] - 0s 8ms/step - loss: 0.0030 - accuracy: 1.0000 - precision: 1.0000 - recall: 1.0000 - val_loss: 0.1723 - val_accuracy: 0.9753 - val_precision: 0.9630 - val_recall: 0.9630\n",
      "Epoch 85/100\n",
      "4/4 [==============================] - 0s 8ms/step - loss: 0.0130 - accuracy: 0.9946 - precision: 0.9919 - recall: 0.9919 - val_loss: 0.1607 - val_accuracy: 0.9877 - val_precision: 0.9815 - val_recall: 0.9815\n",
      "Epoch 86/100\n",
      "4/4 [==============================] - 0s 8ms/step - loss: 0.0061 - accuracy: 1.0000 - precision: 1.0000 - recall: 1.0000 - val_loss: 0.1570 - val_accuracy: 0.9753 - val_precision: 0.9630 - val_recall: 0.9630\n",
      "Epoch 87/100\n",
      "4/4 [==============================] - 0s 8ms/step - loss: 0.0011 - accuracy: 1.0000 - precision: 1.0000 - recall: 1.0000 - val_loss: 0.1491 - val_accuracy: 0.9753 - val_precision: 0.9630 - val_recall: 0.9630\n",
      "Epoch 88/100\n",
      "4/4 [==============================] - 0s 9ms/step - loss: 0.0022 - accuracy: 1.0000 - precision: 1.0000 - recall: 1.0000 - val_loss: 0.1459 - val_accuracy: 0.9753 - val_precision: 0.9630 - val_recall: 0.9630\n",
      "Epoch 89/100\n",
      "4/4 [==============================] - 0s 8ms/step - loss: 0.0014 - accuracy: 1.0000 - precision: 1.0000 - recall: 1.0000 - val_loss: 0.1439 - val_accuracy: 0.9753 - val_precision: 0.9630 - val_recall: 0.9630\n",
      "Epoch 90/100\n",
      "4/4 [==============================] - 0s 8ms/step - loss: 0.0133 - accuracy: 0.9946 - precision: 0.9919 - recall: 0.9919 - val_loss: 0.1408 - val_accuracy: 0.9753 - val_precision: 0.9630 - val_recall: 0.9630\n",
      "Epoch 91/100\n",
      "4/4 [==============================] - 0s 8ms/step - loss: 0.0012 - accuracy: 1.0000 - precision: 1.0000 - recall: 1.0000 - val_loss: 0.1380 - val_accuracy: 0.9753 - val_precision: 0.9630 - val_recall: 0.9630\n",
      "Epoch 92/100\n",
      "4/4 [==============================] - 0s 8ms/step - loss: 0.0025 - accuracy: 1.0000 - precision: 1.0000 - recall: 1.0000 - val_loss: 0.1364 - val_accuracy: 0.9753 - val_precision: 0.9630 - val_recall: 0.9630\n",
      "Epoch 93/100\n",
      "4/4 [==============================] - 0s 8ms/step - loss: 9.5693e-04 - accuracy: 1.0000 - precision: 1.0000 - recall: 1.0000 - val_loss: 0.1354 - val_accuracy: 0.9753 - val_precision: 0.9630 - val_recall: 0.9630\n",
      "Epoch 94/100\n",
      "4/4 [==============================] - 0s 8ms/step - loss: 0.0015 - accuracy: 1.0000 - precision: 1.0000 - recall: 1.0000 - val_loss: 0.1350 - val_accuracy: 0.9753 - val_precision: 0.9630 - val_recall: 0.9630\n",
      "Epoch 95/100\n",
      "4/4 [==============================] - 0s 8ms/step - loss: 0.0027 - accuracy: 1.0000 - precision: 1.0000 - recall: 1.0000 - val_loss: 0.1351 - val_accuracy: 0.9753 - val_precision: 0.9630 - val_recall: 0.9630\n",
      "Epoch 96/100\n",
      "4/4 [==============================] - 0s 8ms/step - loss: 5.6948e-04 - accuracy: 1.0000 - precision: 1.0000 - recall: 1.0000 - val_loss: 0.1352 - val_accuracy: 0.9753 - val_precision: 0.9630 - val_recall: 0.9630\n",
      "Epoch 97/100\n",
      "4/4 [==============================] - 0s 8ms/step - loss: 4.7927e-04 - accuracy: 1.0000 - precision: 1.0000 - recall: 1.0000 - val_loss: 0.1350 - val_accuracy: 0.9753 - val_precision: 0.9630 - val_recall: 0.9630\n",
      "Epoch 98/100\n",
      "4/4 [==============================] - 0s 8ms/step - loss: 5.8392e-04 - accuracy: 1.0000 - precision: 1.0000 - recall: 1.0000 - val_loss: 0.1342 - val_accuracy: 0.9753 - val_precision: 0.9630 - val_recall: 0.9630\n",
      "Epoch 99/100\n",
      "4/4 [==============================] - 0s 7ms/step - loss: 9.9911e-04 - accuracy: 1.0000 - precision: 1.0000 - recall: 1.0000 - val_loss: 0.1329 - val_accuracy: 0.9753 - val_precision: 0.9630 - val_recall: 0.9630\n",
      "Epoch 100/100\n",
      "4/4 [==============================] - 0s 8ms/step - loss: 0.0036 - accuracy: 1.0000 - precision: 1.0000 - recall: 1.0000 - val_loss: 0.1335 - val_accuracy: 0.9753 - val_precision: 0.9630 - val_recall: 0.9630\n"
     ]
    }
   ],
   "source": [
    "testing = model.fit(X2_train, y2_train, epochs=100,validation_data=(X2_test,y2_test))\n"
   ]
  },
  {
   "cell_type": "code",
   "execution_count": 13,
   "metadata": {},
   "outputs": [
    {
     "name": "stdout",
     "output_type": "stream",
     "text": [
      "\n",
      "Test accuracy: [0.7016128897666931, 0.852150559425354, 0.9462365508079529, 0.9838709831237793, 0.9784946441650391, 0.9919354915618896, 0.9919354915618896, 1.0, 0.9946236610412598, 1.0, 0.9838709831237793, 1.0, 1.0, 1.0, 0.9892473220825195, 0.9865591526031494, 1.0, 1.0, 1.0, 1.0, 1.0, 1.0, 1.0, 0.9946236610412598, 1.0, 1.0, 1.0, 1.0, 1.0, 1.0, 1.0, 1.0, 0.9892473220825195, 1.0, 1.0, 1.0, 1.0, 1.0, 1.0, 1.0, 1.0, 1.0, 1.0, 1.0, 1.0, 1.0, 1.0, 0.9946236610412598, 1.0, 1.0, 1.0, 1.0, 1.0, 1.0, 1.0, 1.0, 1.0, 1.0, 1.0, 1.0, 1.0, 1.0, 1.0, 1.0, 1.0, 1.0, 1.0, 1.0, 1.0, 1.0, 1.0, 1.0, 1.0, 1.0, 0.9946236610412598, 1.0, 1.0, 0.9946236610412598, 1.0, 0.9865591526031494, 1.0, 1.0, 1.0, 1.0, 0.9946236610412598, 1.0, 1.0, 1.0, 1.0, 0.9946236610412598, 1.0, 1.0, 1.0, 1.0, 1.0, 1.0, 1.0, 1.0, 1.0, 1.0]\n"
     ]
    }
   ],
   "source": [
    "\n",
    "\n",
    "\n",
    "print('\\nTest accuracy:', testing.history['accuracy'])\n"
   ]
  },
  {
   "cell_type": "code",
   "execution_count": 14,
   "metadata": {},
   "outputs": [
    {
     "name": "stdout",
     "output_type": "stream",
     "text": [
      "2/2 [==============================] - 0s 4ms/step - loss: 0.1335 - accuracy: 0.9753 - precision: 0.9630 - recall: 0.9630\n",
      "\n",
      "Test accuracy: [0.1335313320159912, 0.9753086566925049, 0.9629629850387573, 0.9629629850387573]\n"
     ]
    },
    {
     "data": {
      "text/plain": [
       "<function matplotlib.pyplot.show(close=None, block=None)>"
      ]
     },
     "execution_count": 14,
     "metadata": {},
     "output_type": "execute_result"
    },
    {
     "data": {
      "image/png": "[encoded data removed]",
      "text/plain": [
       "<Figure size 640x480 with 1 Axes>"
      ]
     },
     "metadata": {},
     "output_type": "display_data"
    }
   ],
   "source": [
    "test_acc = model.evaluate(X2_test, y2_test)\n",
    "\n",
    "\n",
    "print('\\nTest accuracy:', test_acc)\n",
    "\n",
    "plt.plot(\n",
    "    np.arange(1, 101), \n",
    "    testing.history['accuracy'], label='Accuracy'\n",
    ")\n",
    "plt.show"
   ]
  },
  {
   "cell_type": "code",
   "execution_count": 15,
   "metadata": {},
   "outputs": [
    {
     "data": {
      "image/png": "[encoded data removed]",
      "text/plain": [
       "<Figure size 640x480 with 1 Axes>"
      ]
     },
     "metadata": {},
     "output_type": "display_data"
    }
   ],
   "source": [
    "plt.plot(testing.history['accuracy'])\n",
    "plt.plot(testing.history['val_accuracy'])\n",
    "plt.title('Accuracy vs Iterations')\n",
    "plt.ylabel('accuracy')\n",
    "plt.xlabel('epoch')\n",
    "plt.legend(['train', 'validation'], loc='upper left')\n",
    "plt.show()\n"
   ]
  },
  {
   "cell_type": "code",
   "execution_count": 16,
   "metadata": {},
   "outputs": [
    {
     "data": {
      "image/png": "[encoded data removed]",
      "text/plain": [
       "<Figure size 640x480 with 1 Axes>"
      ]
     },
     "metadata": {},
     "output_type": "display_data"
    }
   ],
   "source": [
    "plt.plot(testing.history['loss'])\n",
    "plt.plot(testing.history['val_loss'])\n",
    "plt.title('Loss vs Iterations')\n",
    "plt.ylabel('loss')\n",
    "plt.xlabel('epoch')\n",
    "plt.legend(['train', 'validation'], loc='upper left')\n",
    "plt.show()\n"
   ]
  },
  {
   "cell_type": "code",
   "execution_count": 17,
   "metadata": {},
   "outputs": [
    {
     "name": "stdout",
     "output_type": "stream",
     "text": [
      "2/2 [==============================] - 0s 4ms/step - loss: 0.1335 - accuracy: 0.9753 - precision: 0.9630 - recall: 0.9630\n"
     ]
    },
    {
     "data": {
      "text/plain": [
       "[0.1335313320159912,\n",
       " 0.9753086566925049,\n",
       " 0.9629629850387573,\n",
       " 0.9629629850387573]"
      ]
     },
     "execution_count": 17,
     "metadata": {},
     "output_type": "execute_result"
    }
   ],
   "source": [
    "model.evaluate(X2_test,y2_test)"
   ]
  },
  {
   "attachments": {},
   "cell_type": "markdown",
   "metadata": {},
   "source": [
    "Accuracy: 95.06%"
   ]
  }
 ],
 "metadata": {
  "kernelspec": {
   "display_name": "ai",
   "language": "python",
   "name": "python3"
  },
  "language_info": {
   "codemirror_mode": {
    "name": "ipython",
    "version": 3
   },
   "file_extension": ".py",
   "mimetype": "text/x-python",
   "name": "python",
   "nbconvert_exporter": "python",
   "pygments_lexer": "ipython3",
   "version": "3.10.9"
  },
  "orig_nbformat": 4,
  "vscode": {
   "interpreter": {
    "hash": "901513f973fd39939338493543c75a11bbe7066eaea51c7c442242fe74390079"
   }
  }
 },
 "nbformat": 4,
 "nbformat_minor": 2
}
