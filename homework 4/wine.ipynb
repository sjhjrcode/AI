{
 "cells": [
  {
   "cell_type": "code",
   "execution_count": 407,
   "metadata": {},
   "outputs": [],
   "source": [
    "## Import Necessary Functions \n",
    "import numpy as np\n",
    "import matplotlib.pyplot as plt\n",
    "\n",
    "\n",
    "\n",
    "#You will use Vine Dataset you can get the detail in the URL below\n",
    "#https://archive.ics.uci.edu/ml/datasets/Wine\n",
    "\n",
    "from sklearn.datasets import load_wine\n",
    "vine = load_wine()"
   ]
  },
  {
   "cell_type": "code",
   "execution_count": 408,
   "metadata": {},
   "outputs": [
    {
     "name": "stdout",
     "output_type": "stream",
     "text": [
      "(178, 13)\n",
      "(178,)\n",
      "0\n",
      "(3,)\n",
      "['alcohol', 'malic_acid', 'ash', 'alcalinity_of_ash', 'magnesium', 'total_phenols', 'flavanoids', 'nonflavanoid_phenols', 'proanthocyanins', 'color_intensity', 'hue', 'od280/od315_of_diluted_wines', 'proline']\n"
     ]
    }
   ],
   "source": [
    "# PRINT FOR YOUR INTUITION SO YOU KNOW THE DIMENSIONS YOU ARE WORKING WITH\n",
    "print(vine.data.shape) #.data contains the features\n",
    "print(vine.target.shape)\n",
    "print(vine.target[0]) #.target contains the target variables\n",
    "print(vine.target_names.shape)\n",
    "print(vine.feature_names)"
   ]
  },
  {
   "cell_type": "code",
   "execution_count": 409,
   "metadata": {},
   "outputs": [],
   "source": [
    "#SPLIT THE DATA INTO TRAINING AND TESTING SET\n",
    "#WHEN CALLING THE DATA use vine.data instance as well as vine.target.astype('int')\n",
    "#THE SPLIT OF DATA IS UPTO YOU\n",
    "from tensorflow.keras.utils import to_categorical\n",
    "from sklearn.model_selection import train_test_split\n",
    "X, y = load_wine(return_X_y=True)\n",
    "y = to_categorical(y)\n",
    "\n",
    "\n",
    "\n",
    "X2_train, X2_test, y2_train, y2_test = train_test_split(X, y,random_state=104,test_size=0.3,shuffle=True)"
   ]
  },
  {
   "cell_type": "code",
   "execution_count": 410,
   "metadata": {},
   "outputs": [
    {
     "data": {
      "text/plain": [
       "((124, 13), (54, 13))"
      ]
     },
     "execution_count": 410,
     "metadata": {},
     "output_type": "execute_result"
    }
   ],
   "source": [
    "X2_train.shape, X2_test.shape\n"
   ]
  },
  {
   "cell_type": "code",
   "execution_count": 411,
   "metadata": {},
   "outputs": [
    {
     "data": {
      "text/plain": [
       "((124, 3), (54, 3))"
      ]
     },
     "execution_count": 411,
     "metadata": {},
     "output_type": "execute_result"
    }
   ],
   "source": [
    "y2_train.shape, y2_test.shape"
   ]
  },
  {
   "cell_type": "code",
   "execution_count": 412,
   "metadata": {},
   "outputs": [
    {
     "name": "stdout",
     "output_type": "stream",
     "text": [
      "[[0. 1. 0.]\n",
      " [1. 0. 0.]\n",
      " [0. 1. 0.]\n",
      " [0. 0. 1.]\n",
      " [0. 1. 0.]\n",
      " [0. 1. 0.]\n",
      " [1. 0. 0.]\n",
      " [0. 1. 0.]\n",
      " [0. 0. 1.]\n",
      " [1. 0. 0.]\n",
      " [0. 1. 0.]\n",
      " [0. 1. 0.]\n",
      " [1. 0. 0.]\n",
      " [1. 0. 0.]\n",
      " [1. 0. 0.]\n",
      " [0. 0. 1.]\n",
      " [0. 1. 0.]\n",
      " [0. 0. 1.]\n",
      " [0. 0. 1.]\n",
      " [0. 1. 0.]\n",
      " [1. 0. 0.]\n",
      " [0. 0. 1.]\n",
      " [0. 0. 1.]\n",
      " [0. 0. 1.]\n",
      " [1. 0. 0.]\n",
      " [0. 1. 0.]\n",
      " [0. 1. 0.]\n",
      " [0. 0. 1.]\n",
      " [0. 1. 0.]\n",
      " [0. 0. 1.]\n",
      " [1. 0. 0.]\n",
      " [0. 1. 0.]\n",
      " [0. 1. 0.]\n",
      " [0. 1. 0.]\n",
      " [0. 0. 1.]\n",
      " [0. 0. 1.]\n",
      " [1. 0. 0.]\n",
      " [1. 0. 0.]\n",
      " [0. 1. 0.]\n",
      " [0. 1. 0.]\n",
      " [1. 0. 0.]\n",
      " [0. 1. 0.]\n",
      " [0. 1. 0.]\n",
      " [0. 1. 0.]\n",
      " [1. 0. 0.]\n",
      " [0. 1. 0.]\n",
      " [0. 1. 0.]\n",
      " [0. 1. 0.]\n",
      " [1. 0. 0.]\n",
      " [1. 0. 0.]\n",
      " [0. 1. 0.]\n",
      " [1. 0. 0.]\n",
      " [0. 1. 0.]\n",
      " [0. 1. 0.]\n",
      " [0. 0. 1.]\n",
      " [0. 1. 0.]\n",
      " [1. 0. 0.]\n",
      " [0. 1. 0.]\n",
      " [0. 0. 1.]\n",
      " [1. 0. 0.]\n",
      " [0. 1. 0.]\n",
      " [0. 0. 1.]\n",
      " [0. 1. 0.]\n",
      " [0. 0. 1.]\n",
      " [1. 0. 0.]\n",
      " [0. 0. 1.]\n",
      " [0. 1. 0.]\n",
      " [1. 0. 0.]\n",
      " [1. 0. 0.]\n",
      " [1. 0. 0.]\n",
      " [0. 1. 0.]\n",
      " [0. 1. 0.]\n",
      " [0. 1. 0.]\n",
      " [0. 1. 0.]\n",
      " [1. 0. 0.]\n",
      " [0. 1. 0.]\n",
      " [0. 0. 1.]\n",
      " [0. 0. 1.]\n",
      " [0. 1. 0.]\n",
      " [1. 0. 0.]\n",
      " [1. 0. 0.]\n",
      " [1. 0. 0.]\n",
      " [0. 1. 0.]\n",
      " [0. 1. 0.]\n",
      " [0. 0. 1.]\n",
      " [0. 0. 1.]\n",
      " [1. 0. 0.]\n",
      " [0. 0. 1.]\n",
      " [0. 1. 0.]\n",
      " [0. 0. 1.]\n",
      " [0. 0. 1.]\n",
      " [0. 0. 1.]\n",
      " [0. 1. 0.]\n",
      " [1. 0. 0.]\n",
      " [1. 0. 0.]\n",
      " [0. 0. 1.]\n",
      " [1. 0. 0.]\n",
      " [0. 1. 0.]\n",
      " [0. 1. 0.]\n",
      " [1. 0. 0.]\n",
      " [0. 1. 0.]\n",
      " [0. 1. 0.]\n",
      " [0. 0. 1.]\n",
      " [0. 1. 0.]\n",
      " [0. 1. 0.]\n",
      " [0. 0. 1.]\n",
      " [0. 0. 1.]\n",
      " [1. 0. 0.]\n",
      " [0. 1. 0.]\n",
      " [0. 0. 1.]\n",
      " [0. 1. 0.]\n",
      " [0. 0. 1.]\n",
      " [0. 0. 1.]\n",
      " [1. 0. 0.]\n",
      " [0. 0. 1.]\n",
      " [1. 0. 0.]\n",
      " [0. 1. 0.]\n",
      " [0. 1. 0.]\n",
      " [0. 1. 0.]\n",
      " [1. 0. 0.]\n",
      " [0. 1. 0.]\n",
      " [0. 0. 1.]\n",
      " [0. 0. 1.]\n",
      " [0. 1. 0.]]\n"
     ]
    }
   ],
   "source": [
    "print(y2_train)\n",
    "\n"
   ]
  },
  {
   "cell_type": "code",
   "execution_count": 413,
   "metadata": {},
   "outputs": [
    {
     "name": "stdout",
     "output_type": "stream",
     "text": [
      "[[1.165e+01 1.670e+00 2.620e+00 ... 1.360e+00 3.210e+00 5.620e+02]\n",
      " [1.383e+01 1.570e+00 2.620e+00 ... 1.130e+00 2.570e+00 1.130e+03]\n",
      " [1.184e+01 8.900e-01 2.580e+00 ... 7.900e-01 3.080e+00 5.200e+02]\n",
      " ...\n",
      " [1.345e+01 3.700e+00 2.600e+00 ... 8.500e-01 1.560e+00 6.950e+02]\n",
      " [1.352e+01 3.170e+00 2.720e+00 ... 8.900e-01 2.060e+00 5.200e+02]\n",
      " [1.221e+01 1.190e+00 1.750e+00 ... 1.280e+00 3.070e+00 7.180e+02]]\n"
     ]
    }
   ],
   "source": [
    "print(X2_train)"
   ]
  },
  {
   "cell_type": "code",
   "execution_count": 414,
   "metadata": {},
   "outputs": [
    {
     "name": "stdout",
     "output_type": "stream",
     "text": [
      "2.11.0\n"
     ]
    }
   ],
   "source": [
    "import tensorflow as tf\n",
    "\n",
    "print(tf.__version__)\n"
   ]
  },
  {
   "cell_type": "code",
   "execution_count": 415,
   "metadata": {},
   "outputs": [],
   "source": [
    "input_dim = X2_train.shape[1:]\n",
    "output_dim = y.shape[1]"
   ]
  },
  {
   "cell_type": "code",
   "execution_count": 416,
   "metadata": {},
   "outputs": [],
   "source": [
    "model = tf.keras.Sequential([\n",
    "    tf.keras.layers.Dense(128, activation='relu',input_shape=input_dim),\n",
    "    tf.keras.layers.Dense(256, activation='relu'),\n",
    "    tf.keras.layers.Dense(output_dim, activation='softmax')\n",
    "])\n"
   ]
  },
  {
   "cell_type": "code",
   "execution_count": 417,
   "metadata": {},
   "outputs": [],
   "source": [
    "model.compile(\n",
    "    loss='categorical_crossentropy',\n",
    "    optimizer='adam',\n",
    "    metrics=[\n",
    "        tf.keras.metrics.BinaryAccuracy(name='accuracy'),\n",
    "        tf.keras.metrics.Precision(name='precision'),\n",
    "        tf.keras.metrics.Recall(name='recall')\n",
    "    ]\n",
    ")\n"
   ]
  },
  {
   "cell_type": "code",
   "execution_count": 418,
   "metadata": {},
   "outputs": [
    {
     "name": "stdout",
     "output_type": "stream",
     "text": [
      "Epoch 1/100\n",
      "4/4 [==============================] - 0s 1ms/step - loss: 30.1028 - accuracy: 0.5591 - precision: 0.3387 - recall: 0.3387\n",
      "Epoch 2/100\n",
      "4/4 [==============================] - 0s 1ms/step - loss: 17.9924 - accuracy: 0.5645 - precision: 0.3468 - recall: 0.3468\n",
      "Epoch 3/100\n",
      "4/4 [==============================] - 0s 1ms/step - loss: 19.6014 - accuracy: 0.6183 - precision: 0.4274 - recall: 0.4274\n",
      "Epoch 4/100\n",
      "4/4 [==============================] - 0s 1ms/step - loss: 15.0139 - accuracy: 0.6667 - precision: 0.5000 - recall: 0.5000\n",
      "Epoch 5/100\n",
      "4/4 [==============================] - 0s 1ms/step - loss: 6.8271 - accuracy: 0.6613 - precision: 0.4919 - recall: 0.4919\n",
      "Epoch 6/100\n",
      "4/4 [==============================] - 0s 1ms/step - loss: 4.5598 - accuracy: 0.6774 - precision: 0.5161 - recall: 0.5161\n",
      "Epoch 7/100\n",
      "4/4 [==============================] - 0s 1ms/step - loss: 4.9822 - accuracy: 0.7473 - precision: 0.6210 - recall: 0.6210\n",
      "Epoch 8/100\n",
      "4/4 [==============================] - 0s 1ms/step - loss: 3.2929 - accuracy: 0.6156 - precision: 0.4228 - recall: 0.4194\n",
      "Epoch 9/100\n",
      "4/4 [==============================] - 0s 1ms/step - loss: 2.6168 - accuracy: 0.6720 - precision: 0.5082 - recall: 0.5000\n",
      "Epoch 10/100\n",
      "4/4 [==============================] - 0s 1ms/step - loss: 1.5067 - accuracy: 0.7581 - precision: 0.6393 - recall: 0.6290\n",
      "Epoch 11/100\n",
      "4/4 [==============================] - 0s 1ms/step - loss: 2.2389 - accuracy: 0.6774 - precision: 0.5161 - recall: 0.5161\n",
      "Epoch 12/100\n",
      "4/4 [==============================] - 0s 1ms/step - loss: 1.4263 - accuracy: 0.7930 - precision: 0.6942 - recall: 0.6774\n",
      "Epoch 13/100\n",
      "4/4 [==============================] - 0s 1ms/step - loss: 1.2111 - accuracy: 0.7849 - precision: 0.6774 - recall: 0.6774\n",
      "Epoch 14/100\n",
      "4/4 [==============================] - 0s 1ms/step - loss: 1.1126 - accuracy: 0.8038 - precision: 0.7107 - recall: 0.6935\n",
      "Epoch 15/100\n",
      "4/4 [==============================] - 0s 1ms/step - loss: 0.7713 - accuracy: 0.8629 - precision: 0.8017 - recall: 0.7823\n",
      "Epoch 16/100\n",
      "4/4 [==============================] - 0s 1ms/step - loss: 1.0332 - accuracy: 0.8387 - precision: 0.7623 - recall: 0.7500\n",
      "Epoch 17/100\n",
      "4/4 [==============================] - 0s 1ms/step - loss: 0.9291 - accuracy: 0.8387 - precision: 0.7623 - recall: 0.7500\n",
      "Epoch 18/100\n",
      "4/4 [==============================] - 0s 1ms/step - loss: 1.3703 - accuracy: 0.7527 - precision: 0.6290 - recall: 0.6290\n",
      "Epoch 19/100\n",
      "4/4 [==============================] - 0s 1ms/step - loss: 1.2593 - accuracy: 0.7742 - precision: 0.6613 - recall: 0.6613\n",
      "Epoch 20/100\n",
      "4/4 [==============================] - 0s 1ms/step - loss: 0.8627 - accuracy: 0.8199 - precision: 0.7355 - recall: 0.7177\n",
      "Epoch 21/100\n",
      "4/4 [==============================] - 0s 1ms/step - loss: 0.9627 - accuracy: 0.7849 - precision: 0.6774 - recall: 0.6774\n",
      "Epoch 22/100\n",
      "4/4 [==============================] - 0s 1ms/step - loss: 1.0311 - accuracy: 0.7849 - precision: 0.6774 - recall: 0.6774\n",
      "Epoch 23/100\n",
      "4/4 [==============================] - 0s 1ms/step - loss: 0.8313 - accuracy: 0.8468 - precision: 0.7815 - recall: 0.7500\n",
      "Epoch 24/100\n",
      "4/4 [==============================] - 0s 1ms/step - loss: 0.9216 - accuracy: 0.8414 - precision: 0.7642 - recall: 0.7581\n",
      "Epoch 25/100\n",
      "4/4 [==============================] - 0s 1ms/step - loss: 0.9790 - accuracy: 0.8118 - precision: 0.7250 - recall: 0.7016\n",
      "Epoch 26/100\n",
      "4/4 [==============================] - 0s 1ms/step - loss: 1.0288 - accuracy: 0.8280 - precision: 0.7419 - recall: 0.7419\n",
      "Epoch 27/100\n",
      "4/4 [==============================] - 0s 1ms/step - loss: 0.7955 - accuracy: 0.8602 - precision: 0.7951 - recall: 0.7823\n",
      "Epoch 28/100\n",
      "4/4 [==============================] - 0s 1ms/step - loss: 0.8484 - accuracy: 0.8978 - precision: 0.8525 - recall: 0.8387\n",
      "Epoch 29/100\n",
      "4/4 [==============================] - 0s 1ms/step - loss: 0.8420 - accuracy: 0.8118 - precision: 0.7213 - recall: 0.7097\n",
      "Epoch 30/100\n",
      "4/4 [==============================] - 0s 1ms/step - loss: 0.7015 - accuracy: 0.9194 - precision: 0.8790 - recall: 0.8790\n",
      "Epoch 31/100\n",
      "4/4 [==============================] - 0s 1ms/step - loss: 0.6288 - accuracy: 0.8871 - precision: 0.8417 - recall: 0.8145\n",
      "Epoch 32/100\n",
      "4/4 [==============================] - 0s 1ms/step - loss: 0.8802 - accuracy: 0.9032 - precision: 0.8548 - recall: 0.8548\n",
      "Epoch 33/100\n",
      "4/4 [==============================] - 0s 1ms/step - loss: 0.8373 - accuracy: 0.8414 - precision: 0.7686 - recall: 0.7500\n",
      "Epoch 34/100\n",
      "4/4 [==============================] - 0s 1ms/step - loss: 0.7252 - accuracy: 0.8306 - precision: 0.7480 - recall: 0.7419\n",
      "Epoch 35/100\n",
      "4/4 [==============================] - 0s 1ms/step - loss: 0.7673 - accuracy: 0.8387 - precision: 0.7581 - recall: 0.7581\n",
      "Epoch 36/100\n",
      "4/4 [==============================] - 0s 1ms/step - loss: 0.6000 - accuracy: 0.8898 - precision: 0.8487 - recall: 0.8145\n",
      "Epoch 37/100\n",
      "4/4 [==============================] - 0s 1ms/step - loss: 0.6056 - accuracy: 0.8871 - precision: 0.8417 - recall: 0.8145\n",
      "Epoch 38/100\n",
      "4/4 [==============================] - 0s 1ms/step - loss: 0.7641 - accuracy: 0.9086 - precision: 0.8629 - recall: 0.8629\n",
      "Epoch 39/100\n",
      "4/4 [==============================] - 0s 1ms/step - loss: 0.9525 - accuracy: 0.8575 - precision: 0.7886 - recall: 0.7823\n",
      "Epoch 40/100\n",
      "4/4 [==============================] - 0s 1ms/step - loss: 1.1454 - accuracy: 0.7849 - precision: 0.6803 - recall: 0.6694\n",
      "Epoch 41/100\n",
      "4/4 [==============================] - 0s 1ms/step - loss: 0.6701 - accuracy: 0.8280 - precision: 0.7459 - recall: 0.7339\n",
      "Epoch 42/100\n",
      "4/4 [==============================] - 0s 1ms/step - loss: 0.5887 - accuracy: 0.8737 - precision: 0.8182 - recall: 0.7984\n",
      "Epoch 43/100\n",
      "4/4 [==============================] - 0s 1ms/step - loss: 1.0246 - accuracy: 0.7742 - precision: 0.6613 - recall: 0.6613\n",
      "Epoch 44/100\n",
      "4/4 [==============================] - 0s 1ms/step - loss: 0.8647 - accuracy: 0.8226 - precision: 0.7417 - recall: 0.7177\n",
      "Epoch 45/100\n",
      "4/4 [==============================] - 0s 1ms/step - loss: 0.7437 - accuracy: 0.8226 - precision: 0.7339 - recall: 0.7339\n",
      "Epoch 46/100\n",
      "4/4 [==============================] - 0s 1ms/step - loss: 0.7502 - accuracy: 0.8253 - precision: 0.7398 - recall: 0.7339\n",
      "Epoch 47/100\n",
      "4/4 [==============================] - 0s 1ms/step - loss: 0.4976 - accuracy: 0.8925 - precision: 0.8500 - recall: 0.8226\n",
      "Epoch 48/100\n",
      "4/4 [==============================] - 0s 1ms/step - loss: 0.9952 - accuracy: 0.8118 - precision: 0.7177 - recall: 0.7177\n",
      "Epoch 49/100\n",
      "4/4 [==============================] - 0s 1ms/step - loss: 1.1356 - accuracy: 0.7876 - precision: 0.6829 - recall: 0.6774\n",
      "Epoch 50/100\n",
      "4/4 [==============================] - 0s 1ms/step - loss: 0.6093 - accuracy: 0.8414 - precision: 0.7642 - recall: 0.7581\n",
      "Epoch 51/100\n",
      "4/4 [==============================] - 0s 1ms/step - loss: 0.9813 - accuracy: 0.8145 - precision: 0.7273 - recall: 0.7097\n",
      "Epoch 52/100\n",
      "4/4 [==============================] - 0s 1ms/step - loss: 0.7654 - accuracy: 0.8468 - precision: 0.7724 - recall: 0.7661\n",
      "Epoch 53/100\n",
      "4/4 [==============================] - 0s 1ms/step - loss: 0.7408 - accuracy: 0.8495 - precision: 0.7833 - recall: 0.7581\n",
      "Epoch 54/100\n",
      "4/4 [==============================] - 0s 1ms/step - loss: 0.9612 - accuracy: 0.8468 - precision: 0.7815 - recall: 0.7500\n",
      "Epoch 55/100\n",
      "4/4 [==============================] - 0s 1ms/step - loss: 0.9118 - accuracy: 0.8683 - precision: 0.8099 - recall: 0.7903\n",
      "Epoch 56/100\n",
      "4/4 [==============================] - 0s 1ms/step - loss: 0.7329 - accuracy: 0.8710 - precision: 0.8065 - recall: 0.8065\n",
      "Epoch 57/100\n",
      "4/4 [==============================] - 0s 1ms/step - loss: 0.6445 - accuracy: 0.8710 - precision: 0.8167 - recall: 0.7903\n",
      "Epoch 58/100\n",
      "4/4 [==============================] - 0s 1ms/step - loss: 0.9829 - accuracy: 0.8226 - precision: 0.7339 - recall: 0.7339\n",
      "Epoch 59/100\n",
      "4/4 [==============================] - 0s 1ms/step - loss: 0.6380 - accuracy: 0.9086 - precision: 0.8689 - recall: 0.8548\n",
      "Epoch 60/100\n",
      "4/4 [==============================] - 0s 1ms/step - loss: 1.0275 - accuracy: 0.8414 - precision: 0.7642 - recall: 0.7581\n",
      "Epoch 61/100\n",
      "4/4 [==============================] - 0s 1ms/step - loss: 0.7460 - accuracy: 0.8387 - precision: 0.7581 - recall: 0.7581\n",
      "Epoch 62/100\n",
      "4/4 [==============================] - 0s 1ms/step - loss: 1.3347 - accuracy: 0.7634 - precision: 0.6452 - recall: 0.6452\n",
      "Epoch 63/100\n",
      "4/4 [==============================] - 0s 1ms/step - loss: 0.7390 - accuracy: 0.8602 - precision: 0.7903 - recall: 0.7903\n",
      "Epoch 64/100\n",
      "4/4 [==============================] - 0s 1ms/step - loss: 0.6679 - accuracy: 0.8737 - precision: 0.8182 - recall: 0.7984\n",
      "Epoch 65/100\n",
      "4/4 [==============================] - 0s 1ms/step - loss: 0.4269 - accuracy: 0.9274 - precision: 0.9008 - recall: 0.8790\n",
      "Epoch 66/100\n",
      "4/4 [==============================] - 0s 1ms/step - loss: 0.4202 - accuracy: 0.9032 - precision: 0.8667 - recall: 0.8387\n",
      "Epoch 67/100\n",
      "4/4 [==============================] - 0s 1ms/step - loss: 0.5796 - accuracy: 0.8710 - precision: 0.8065 - recall: 0.8065\n",
      "Epoch 68/100\n",
      "4/4 [==============================] - 0s 1ms/step - loss: 0.6632 - accuracy: 0.8548 - precision: 0.7869 - recall: 0.7742\n",
      "Epoch 69/100\n",
      "4/4 [==============================] - 0s 1ms/step - loss: 0.4619 - accuracy: 0.9086 - precision: 0.8689 - recall: 0.8548\n",
      "Epoch 70/100\n",
      "4/4 [==============================] - 0s 1ms/step - loss: 0.4181 - accuracy: 0.9005 - precision: 0.8537 - recall: 0.8468\n",
      "Epoch 71/100\n",
      "4/4 [==============================] - 0s 1ms/step - loss: 0.4253 - accuracy: 0.9382 - precision: 0.9106 - recall: 0.9032\n",
      "Epoch 72/100\n",
      "4/4 [==============================] - 0s 1ms/step - loss: 0.2892 - accuracy: 0.9409 - precision: 0.9180 - recall: 0.9032\n",
      "Epoch 73/100\n",
      "4/4 [==============================] - 0s 1ms/step - loss: 0.4312 - accuracy: 0.9355 - precision: 0.9032 - recall: 0.9032\n",
      "Epoch 74/100\n",
      "4/4 [==============================] - 0s 1ms/step - loss: 0.3425 - accuracy: 0.9516 - precision: 0.9274 - recall: 0.9274\n",
      "Epoch 75/100\n",
      "4/4 [==============================] - 0s 1ms/step - loss: 0.6206 - accuracy: 0.8656 - precision: 0.8033 - recall: 0.7903\n",
      "Epoch 76/100\n",
      "4/4 [==============================] - 0s 1ms/step - loss: 0.5217 - accuracy: 0.8656 - precision: 0.8033 - recall: 0.7903\n",
      "Epoch 77/100\n",
      "4/4 [==============================] - 0s 1ms/step - loss: 0.4521 - accuracy: 0.8925 - precision: 0.8500 - recall: 0.8226\n",
      "Epoch 78/100\n",
      "4/4 [==============================] - 0s 1ms/step - loss: 0.6069 - accuracy: 0.8602 - precision: 0.7903 - recall: 0.7903\n",
      "Epoch 79/100\n",
      "4/4 [==============================] - 0s 1ms/step - loss: 2.0105 - accuracy: 0.7796 - precision: 0.6694 - recall: 0.6694\n",
      "Epoch 80/100\n",
      "4/4 [==============================] - 0s 1ms/step - loss: 1.7041 - accuracy: 0.7634 - precision: 0.6475 - recall: 0.6371\n",
      "Epoch 81/100\n",
      "4/4 [==============================] - 0s 1ms/step - loss: 4.0134 - accuracy: 0.6640 - precision: 0.4959 - recall: 0.4919\n",
      "Epoch 82/100\n",
      "4/4 [==============================] - 0s 1ms/step - loss: 0.5758 - accuracy: 0.8898 - precision: 0.8374 - recall: 0.8306\n",
      "Epoch 83/100\n",
      "4/4 [==============================] - 0s 1ms/step - loss: 0.7820 - accuracy: 0.8683 - precision: 0.8049 - recall: 0.7984\n",
      "Epoch 84/100\n",
      "4/4 [==============================] - 0s 1ms/step - loss: 0.6703 - accuracy: 0.9032 - precision: 0.8607 - recall: 0.8468\n",
      "Epoch 85/100\n",
      "4/4 [==============================] - 0s 1ms/step - loss: 0.7654 - accuracy: 0.8925 - precision: 0.8387 - recall: 0.8387\n",
      "Epoch 86/100\n",
      "4/4 [==============================] - 0s 1ms/step - loss: 0.5690 - accuracy: 0.9274 - precision: 0.8943 - recall: 0.8871\n",
      "Epoch 87/100\n",
      "4/4 [==============================] - 0s 1ms/step - loss: 0.5864 - accuracy: 0.9194 - precision: 0.8852 - recall: 0.8710\n",
      "Epoch 88/100\n",
      "4/4 [==============================] - 0s 1ms/step - loss: 0.3759 - accuracy: 0.9462 - precision: 0.9194 - recall: 0.9194\n",
      "Epoch 89/100\n",
      "4/4 [==============================] - 0s 1ms/step - loss: 0.3613 - accuracy: 0.9516 - precision: 0.9274 - recall: 0.9274\n",
      "Epoch 90/100\n",
      "4/4 [==============================] - 0s 1ms/step - loss: 0.3542 - accuracy: 0.9597 - precision: 0.9431 - recall: 0.9355\n",
      "Epoch 91/100\n",
      "4/4 [==============================] - 0s 1ms/step - loss: 0.3624 - accuracy: 0.9301 - precision: 0.8952 - recall: 0.8952\n",
      "Epoch 92/100\n",
      "4/4 [==============================] - 0s 1ms/step - loss: 0.7455 - accuracy: 0.8898 - precision: 0.8374 - recall: 0.8306\n",
      "Epoch 93/100\n",
      "4/4 [==============================] - 0s 1ms/step - loss: 1.1263 - accuracy: 0.8441 - precision: 0.7661 - recall: 0.7661\n",
      "Epoch 94/100\n",
      "4/4 [==============================] - 0s 1ms/step - loss: 1.4408 - accuracy: 0.8011 - precision: 0.7049 - recall: 0.6935\n",
      "Epoch 95/100\n",
      "4/4 [==============================] - 0s 1ms/step - loss: 1.2716 - accuracy: 0.8226 - precision: 0.7339 - recall: 0.7339\n",
      "Epoch 96/100\n",
      "4/4 [==============================] - 0s 1ms/step - loss: 1.1527 - accuracy: 0.8414 - precision: 0.7642 - recall: 0.7581\n",
      "Epoch 97/100\n",
      "4/4 [==============================] - 0s 1ms/step - loss: 0.7229 - accuracy: 0.9005 - precision: 0.8537 - recall: 0.8468\n",
      "Epoch 98/100\n",
      "4/4 [==============================] - 0s 1ms/step - loss: 1.1797 - accuracy: 0.8575 - precision: 0.7886 - recall: 0.7823\n",
      "Epoch 99/100\n",
      "4/4 [==============================] - 0s 1ms/step - loss: 0.5180 - accuracy: 0.9409 - precision: 0.9113 - recall: 0.9113\n",
      "Epoch 100/100\n",
      "4/4 [==============================] - 0s 1ms/step - loss: 0.7762 - accuracy: 0.9113 - precision: 0.8699 - recall: 0.8629\n"
     ]
    }
   ],
   "source": [
    "testing = model.fit(X2_train, y2_train, epochs=100)\n"
   ]
  },
  {
   "cell_type": "code",
   "execution_count": 419,
   "metadata": {},
   "outputs": [
    {
     "name": "stdout",
     "output_type": "stream",
     "text": [
      "\n",
      "Test accuracy: [0.5591397881507874, 0.5645161271095276, 0.6182795763015747, 0.6666666865348816, 0.6612903475761414, 0.6774193644523621, 0.7473118305206299, 0.6155914068222046, 0.6720430254936218, 0.7580645084381104, 0.6774193644523621, 0.7930107712745667, 0.7849462628364563, 0.8037634491920471, 0.8629032373428345, 0.8387096524238586, 0.8387096524238586, 0.7526881694793701, 0.774193525314331, 0.8198924660682678, 0.7849462628364563, 0.7849462628364563, 0.8467742204666138, 0.8413978219032288, 0.8118279576301575, 0.8279569745063782, 0.8602150678634644, 0.897849440574646, 0.8118279576301575, 0.9193548560142517, 0.8870967626571655, 0.9032257795333862, 0.8413978219032288, 0.8306451439857483, 0.8387096524238586, 0.8897849321365356, 0.8870967626571655, 0.9086021780967712, 0.8575268983840942, 0.7849462628364563, 0.8279569745063782, 0.8736559152603149, 0.774193525314331, 0.8225806355476379, 0.8225806355476379, 0.8252688050270081, 0.8924731016159058, 0.8118279576301575, 0.7876344323158264, 0.8413978219032288, 0.8145161271095276, 0.8467742204666138, 0.8494623899459839, 0.8467742204666138, 0.8682795763015747, 0.8709677457809448, 0.8709677457809448, 0.8225806355476379, 0.9086021780967712, 0.8413978219032288, 0.8387096524238586, 0.7634408473968506, 0.8602150678634644, 0.8736559152603149, 0.9274193644523621, 0.9032257795333862, 0.8709677457809448, 0.8548387289047241, 0.9086021780967712, 0.9005376100540161, 0.9381720423698425, 0.9408602118492126, 0.9354838728904724, 0.9516128897666931, 0.8655914068222046, 0.8655914068222046, 0.8924731016159058, 0.8602150678634644, 0.7795698642730713, 0.7634408473968506, 0.6639785170555115, 0.8897849321365356, 0.8682795763015747, 0.9032257795333862, 0.8924731016159058, 0.9274193644523621, 0.9193548560142517, 0.9462365508079529, 0.9516128897666931, 0.9596773982048035, 0.9301075339317322, 0.8897849321365356, 0.8440860509872437, 0.801075279712677, 0.8225806355476379, 0.8413978219032288, 0.9005376100540161, 0.8575268983840942, 0.9408602118492126, 0.9112903475761414]\n"
     ]
    }
   ],
   "source": [
    "\n",
    "\n",
    "\n",
    "print('\\nTest accuracy:', testing.history['accuracy'])\n"
   ]
  },
  {
   "cell_type": "code",
   "execution_count": 420,
   "metadata": {},
   "outputs": [
    {
     "name": "stdout",
     "output_type": "stream",
     "text": [
      "2/2 [==============================] - 0s 3ms/step - loss: 0.2309 - accuracy: 0.9259 - precision: 0.8889 - recall: 0.8889\n",
      "\n",
      "Test accuracy: [0.2308574914932251, 0.9259259104728699, 0.8888888955116272, 0.8888888955116272]\n"
     ]
    },
    {
     "data": {
      "text/plain": [
       "<function matplotlib.pyplot.show(close=None, block=None)>"
      ]
     },
     "execution_count": 420,
     "metadata": {},
     "output_type": "execute_result"
    },
    {
     "data": {
      "image/png": "[encoded data removed]",
      "text/plain": [
       "<Figure size 640x480 with 1 Axes>"
      ]
     },
     "metadata": {},
     "output_type": "display_data"
    }
   ],
   "source": [
    "test_acc = model.evaluate(X2_test, y2_test)\n",
    "\n",
    "\n",
    "print('\\nTest accuracy:', test_acc)\n",
    "\n",
    "plt.plot(\n",
    "    np.arange(1, 101), \n",
    "    testing.history['accuracy'], label='Accuracy'\n",
    ")\n",
    "plt.show"
   ]
  },
  {
   "cell_type": "code",
   "execution_count": 421,
   "metadata": {},
   "outputs": [
    {
     "data": {
      "text/plain": [
       "[<matplotlib.lines.Line2D at 0x7f7ca41e2860>]"
      ]
     },
     "execution_count": 421,
     "metadata": {},
     "output_type": "execute_result"
    },
    {
     "data": {
      "image/png": "[encoded data removed]",
      "text/plain": [
       "<Figure size 640x480 with 1 Axes>"
      ]
     },
     "metadata": {},
     "output_type": "display_data"
    }
   ],
   "source": [
    "plt.plot(\n",
    "    np.arange(1, 101), \n",
    "    testing.history['precision'], label='Precision'\n",
    ")"
   ]
  },
  {
   "cell_type": "code",
   "execution_count": 422,
   "metadata": {},
   "outputs": [
    {
     "data": {
      "text/plain": [
       "[<matplotlib.lines.Line2D at 0x7f7ca449be20>]"
      ]
     },
     "execution_count": 422,
     "metadata": {},
     "output_type": "execute_result"
    },
    {
     "data": {
      "image/png": "[encoded data removed]",
      "text/plain": [
       "<Figure size 640x480 with 1 Axes>"
      ]
     },
     "metadata": {},
     "output_type": "display_data"
    }
   ],
   "source": [
    "plt.plot(\n",
    "    np.arange(1, 101), \n",
    "    testing.history['loss'], label='Loss'\n",
    ")"
   ]
  },
  {
   "cell_type": "code",
   "execution_count": 423,
   "metadata": {},
   "outputs": [
    {
     "name": "stdout",
     "output_type": "stream",
     "text": [
      "2/2 [==============================] - 0s 2ms/step - loss: 0.2309 - accuracy: 0.9259 - precision: 0.8889 - recall: 0.8889\n"
     ]
    },
    {
     "data": {
      "text/plain": [
       "[0.2308574914932251,\n",
       " 0.9259259104728699,\n",
       " 0.8888888955116272,\n",
       " 0.8888888955116272]"
      ]
     },
     "execution_count": 423,
     "metadata": {},
     "output_type": "execute_result"
    }
   ],
   "source": [
    "model.evaluate(X2_test,y2_test)"
   ]
  },
  {
   "attachments": {},
   "cell_type": "markdown",
   "metadata": {},
   "source": [
    "Accuracy: 92.59%"
   ]
  }
 ],
 "metadata": {
  "kernelspec": {
   "display_name": "ai",
   "language": "python",
   "name": "python3"
  },
  "language_info": {
   "codemirror_mode": {
    "name": "ipython",
    "version": 3
   },
   "file_extension": ".py",
   "mimetype": "text/x-python",
   "name": "python",
   "nbconvert_exporter": "python",
   "pygments_lexer": "ipython3",
   "version": "3.10.9"
  },
  "orig_nbformat": 4,
  "vscode": {
   "interpreter": {
    "hash": "901513f973fd39939338493543c75a11bbe7066eaea51c7c442242fe74390079"
   }
  }
 },
 "nbformat": 4,
 "nbformat_minor": 2
}
